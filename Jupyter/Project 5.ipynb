{
 "cells": [
  {
   "cell_type": "markdown",
   "metadata": {},
   "source": [
    "# AI Project 5\n",
    "## Arman Rostami"
   ]
  },
  {
   "cell_type": "markdown",
   "metadata": {},
   "source": [
    "In this project, a Neural Network model is implemented. Also methods to verify the model and to solve overfitting problem are discussed and implemented."
   ]
  },
  {
   "cell_type": "markdown",
   "metadata": {},
   "source": [
    "## Initializations"
   ]
  },
  {
   "cell_type": "markdown",
   "metadata": {},
   "source": [
    "### Headers"
   ]
  },
  {
   "cell_type": "code",
   "execution_count": 1,
   "metadata": {},
   "outputs": [],
   "source": [
    "import math\n",
    "import random\n",
    "import functools\n",
    "import numpy as np\n",
    "import matplotlib.pyplot as plt"
   ]
  },
  {
   "cell_type": "markdown",
   "metadata": {},
   "source": [
    "### Defines"
   ]
  },
  {
   "cell_type": "code",
   "execution_count": 2,
   "metadata": {},
   "outputs": [],
   "source": [
    "PLOT_SIZE = 7"
   ]
  },
  {
   "cell_type": "markdown",
   "metadata": {},
   "source": [
    "### Utilities"
   ]
  },
  {
   "cell_type": "code",
   "execution_count": 3,
   "metadata": {},
   "outputs": [],
   "source": [
    "def alphabetize(x,y):\n",
    "    if x.get_name()>y.get_name():\n",
    "        return 1\n",
    "    return -1\n",
    "\n",
    "def abs_mean(values):\n",
    "    \"\"\"Compute the mean of the absolute values a set of numbers.\n",
    "    For computing the stopping condition for training neural nets\"\"\"\n",
    "    return np.mean(np.abs(values))"
   ]
  },
  {
   "cell_type": "markdown",
   "metadata": {},
   "source": [
    "### Datas"
   ]
  },
  {
   "cell_type": "code",
   "execution_count": 4,
   "metadata": {},
   "outputs": [],
   "source": [
    "#\n",
    "# Training and Test Data used in neural_net_tester.py\n",
    "#\n",
    "import pandas as pd\n",
    "\n",
    "\"\"\"\n",
    "1++\n",
    "0-+\n",
    " 01\n",
    "\"\"\"\n",
    "or_data = ((0,0,0),\n",
    "           (0,1,1),\n",
    "           (1,0,1),\n",
    "           (1,1,1),\n",
    "           (0.25,0,0),\n",
    "           (0,0.25,0))\n",
    "\n",
    "or_test_data = ((0.1,0.1,0),\n",
    "                (0.1,0.9,1),\n",
    "                (0.9,0.1,1),\n",
    "                (0.9,0.9,1))\n",
    "\"\"\"\n",
    "1-+\n",
    "0--\n",
    " 01\n",
    "\"\"\"\n",
    "and_data = ((0,0,0),\n",
    "            (0,1,0),\n",
    "            (1,0,0),\n",
    "            (1,1,1),\n",
    "            (0.75,1.0,1),\n",
    "            (1.0,0.75,1))\n",
    "\n",
    "and_test_data = ((0.1,0.1,0),\n",
    "                 (0.1,0.9,0),\n",
    "                 (0.9,0.1,0),\n",
    "                 (0.9,0.9,1))\n",
    "\n",
    "\"\"\"\n",
    "1-+\n",
    "0+-\n",
    " 01\n",
    "\"\"\"\n",
    "equal_data = ((0,0,1),\n",
    "              (0,1,0),\n",
    "              (1,0,0),\n",
    "              (1,1,1))\n",
    "\n",
    "equal_test_data = ((0.1,0.1,1),\n",
    "                   (0.1,0.9,0),\n",
    "                   (0.9,0.1,0),\n",
    "                   (0.9,0.9,1))\n",
    "\n",
    "\"\"\"\n",
    "1+-\n",
    "0-+\n",
    " 01\n",
    "\"\"\"\n",
    "neq_data = ((0,0,0),\n",
    "            (0,1,1),\n",
    "            (1,0,1),\n",
    "            (1,1,0))\n",
    "\n",
    "neq_test_data = ((0.1,0.1,0),\n",
    "                 (0.1,0.9,1),\n",
    "                 (0.9,0.1,1),\n",
    "                 (0.9,0.9,0))\n",
    "\n",
    "\n",
    "\"\"\"\n",
    "3-++-\n",
    "2-++-\n",
    "1-++-\n",
    "0-++-\n",
    " 0123\n",
    "\"\"\"\n",
    "vert_band_data = ((0,0,0),\n",
    "                  (0,1,0),\n",
    "                  (0,2,0),\n",
    "                  (0,3,0),\n",
    "                  (1,0,1),\n",
    "                  (1,1,1),\n",
    "                  (1,2,1),\n",
    "                  (1,3,1),\n",
    "                  (2,0,1),\n",
    "                  (2,1,1),\n",
    "                  (2,2,1),\n",
    "                  (2,3,1),\n",
    "                  (3,0,0),\n",
    "                  (3,1,0),\n",
    "                  (3,2,0),\n",
    "                  (3,3,0))\n",
    "\n",
    "vert_band_test_data = ((0,    1, 0),\n",
    "                        (0,    2, 0),\n",
    "                        (0,  1.5, 0),\n",
    "\n",
    "                        (1.5,  2, 1),\n",
    "                        (1.5,  5, 1),\n",
    "                        (1.5,  1, 1),\n",
    "\n",
    "                        (3,    1, 0),\n",
    "                        (3,  1.5, 0),\n",
    "                        (3,    2, 0),\n",
    "\n",
    "                        (1,  1.5, 1),\n",
    "                        (1, -1.5, 1),\n",
    "                        (2,  1.5, 1),\n",
    "                        (2, -1.5, 1),\n",
    "\n",
    "                        (4,  0,   0),\n",
    "                        (4,  4,   0),\n",
    "                        (-1, 0,   0),\n",
    "                        (-1, 4,   0))\n",
    "\n",
    "\"\"\"\n",
    "3----\n",
    "2++++\n",
    "1++++\n",
    "0----\n",
    " 0123\n",
    "\"\"\"\n",
    "horiz_band_data = ((0,0,0),\n",
    "                   (0,1,1),\n",
    "                   (0,2,1),\n",
    "                   (0,3,0),\n",
    "                   (1,0,0),\n",
    "                   (1,1,1),\n",
    "                   (1,2,1),\n",
    "                   (1,3,0),\n",
    "                   (2,0,0),\n",
    "                   (2,1,1),\n",
    "                   (2,2,1),\n",
    "                   (2,3,0),\n",
    "                   (3,0,0),\n",
    "                   (3,1,1),\n",
    "                   (3,2,1),\n",
    "                   (3,3,0))\n",
    "\n",
    "horiz_band_test_data = ((1, 1.5, 1),\n",
    "                        (2, 1.5, 1),\n",
    "                        (3, 1.5, 1),\n",
    "                        (0, 1.5, 1),\n",
    "                        (4,   0, 0),\n",
    "                        (4,   4, 0),\n",
    "                        (-1,  0, 0),\n",
    "                        (-1,  4, 0))\n",
    "\n",
    "\"\"\"\n",
    "4--- +\n",
    "3-- +\n",
    "2- + -\n",
    "1 + --\n",
    "0+ ---\n",
    " 01234\n",
    "\"\"\"\n",
    "diag_band_data = ((0,0,1),\n",
    "                  (1,1,1),\n",
    "                  (2,2,1),\n",
    "                  (3,3,1),\n",
    "                  (4,4,1),\n",
    "                  (0,4,0),\n",
    "                  (4,0,0),\n",
    "                  (0,3,0),\n",
    "                  (3,0,0),\n",
    "                  (0,2,0),\n",
    "                  (2,0,0),\n",
    "                  (1,4,0),\n",
    "                  (4,1,0),\n",
    "                  (1,3,0),\n",
    "                  (3,1,0),\n",
    "                  (2,4,0),\n",
    "                  (4,2,0),\n",
    "                  )\n",
    "\n",
    "diag_band_test_data = ((-1,-1,1),\n",
    "                       (5,  5,1),\n",
    "                       (-2,-2,1),\n",
    "                       (6,  6,1),\n",
    "                       (3.5,3.5,1),\n",
    "                       (1.5,1.5,1),\n",
    "                       (4,  0,0),\n",
    "                       (0,  4,0))\n",
    "\n",
    "\"\"\"\n",
    "4+++ -\n",
    "3++ -\n",
    "2+ - +\n",
    "1 - ++\n",
    "0- +++\n",
    " 01234\n",
    "\"\"\"\n",
    "idiag_band_data = ((0,0,0),\n",
    "                   (1,1,0),\n",
    "                   (2,2,0),\n",
    "                   (3,3,0),\n",
    "                   (4,4,0),\n",
    "                   (0,4,1),\n",
    "                   (4,0,1),\n",
    "                   (0,3,1),\n",
    "                   (3,0,1),\n",
    "                   (0,2,1),\n",
    "                   (2,0,1),\n",
    "                   (1,4,1),\n",
    "                   (4,1,1),\n",
    "                   (1,3,1),\n",
    "                   (3,1,1),\n",
    "                   (2,4,1),\n",
    "                   (4,2,1),\n",
    "                   )\n",
    "\n",
    "idiag_band_test_data = ((-1,-1,0),\n",
    "                        (5,  5,0),\n",
    "                        (-2,-2,0),\n",
    "                        (6,  6,0),\n",
    "                        (3.5,3.5,0),\n",
    "                        (1.5,1.5,0),\n",
    "                        (4,  0,1),\n",
    "                        (0,  4,1))\n",
    "\n",
    "\n",
    "\"\"\"\n",
    "4-----\n",
    "3-   -\n",
    "2- + -\n",
    "1-   -\n",
    "0-----\n",
    " 01234\n",
    "\"\"\"\n",
    "moat_data = ((0,0,0),\n",
    "             (1,0,0),\n",
    "             (2,0,0),\n",
    "             (3,0,0),\n",
    "             (4,0,0),\n",
    "\n",
    "             (1,1,0),\n",
    "             (4,1,0),\n",
    "\n",
    "             (1,2,0),\n",
    "             (3,3,1),\n",
    "             (4,2,0),\n",
    "\n",
    "             (1,4,0),\n",
    "             (4,4,0),\n",
    "\n",
    "             (0,4,0),\n",
    "             (1,4,0),\n",
    "             (2,4,0),\n",
    "             (3,4,0),\n",
    "             (4,4,0),\n",
    "             )\n",
    "\n",
    "moat_test_data = moat_data\n",
    "\n",
    "\"\"\"\n",
    "4+-\n",
    "3+-\n",
    "2+-\n",
    "1+----\n",
    "0-++++\n",
    " 01234\n",
    "\"\"\"\n",
    "letter_l_data = ((0,0,0),\n",
    "                 (1,0,1),\n",
    "                 (2,0,1),\n",
    "                 (3,0,1),\n",
    "                 (4,0,1),\n",
    "\n",
    "                 (1,1,0),\n",
    "                 (2,1,0),\n",
    "                 (3,1,0),\n",
    "                 (4,1,0),\n",
    "\n",
    "                 (0,2,1),\n",
    "                 (1,2,0),\n",
    "\n",
    "                 (0,3,1),\n",
    "                 (1,3,0),\n",
    "\n",
    "                 (0,4,1),\n",
    "                 (1,4,0),\n",
    "                 )\n",
    "\n",
    "letter_l_test_data = letter_l_data\n",
    "\n",
    "def load_csv(filename):\n",
    "    df = pd.read_csv(filename)\n",
    "    data = []\n",
    "    for _, row in df.iterrows():\n",
    "        row = row.tolist()\n",
    "        data.append(row)\n",
    "    return data\n",
    "\n",
    "two_moons_data = load_csv('Codes/two-moons/train.csv')\n",
    "two_moons_test_data = load_csv('Codes/two-moons/test.csv')\n",
    "\n",
    "\n",
    "simple_data_sets = [(\"OR\", or_data, or_test_data),\n",
    "                    (\"AND\", and_data, and_test_data)\n",
    "                    ]\n",
    "\n",
    "harder_data_sets = [(\"EQUAL\", equal_data, equal_test_data),\n",
    "                    (\"NOT_EQUAL\", neq_data, neq_test_data),\n",
    "                    (\"horizontal-bands\", horiz_band_data, horiz_band_test_data),\n",
    "                    (\"vertical-bands\", vert_band_data, vert_band_test_data),\n",
    "                    (\"diagonal-band\", diag_band_data, diag_band_test_data),\n",
    "                    (\"inverse-diagonal-band\", idiag_band_data,\n",
    "                     idiag_band_test_data)\n",
    "                    ]\n",
    "\n",
    "challenging_data_sets = [(\"moat\", moat_data, moat_test_data),\n",
    "                         (\"letter-l\", letter_l_data, letter_l_test_data),\n",
    "                         ]\n",
    "\n",
    "two_moons_data_set = [(\"two-moons\", two_moons_data, two_moons_test_data)]\n",
    "\n",
    "all_data_sets = simple_data_sets + harder_data_sets + challenging_data_sets + \\\n",
    "                two_moons_data_set\n"
   ]
  },
  {
   "cell_type": "markdown",
   "metadata": {},
   "source": [
    "### Neural Network API"
   ]
  },
  {
   "cell_type": "code",
   "execution_count": 5,
   "metadata": {},
   "outputs": [],
   "source": [
    "# Neural Net\n",
    "# - In this file we have an incomplete skeleton of\n",
    "# a neural network implementation.  Follow the instructions in the\n",
    "# problem description and complete the NotImplemented methods below.\n",
    "#\n",
    "import math\n",
    "import random\n",
    "import functools\n",
    "import numpy as np\n",
    "\n",
    "class ValuedElement(object):\n",
    "    \"\"\"\n",
    "    This is an abstract class that all Network elements inherit from\n",
    "    \"\"\"\n",
    "    def __init__(self,name,val):\n",
    "        self.my_name = name\n",
    "        self.my_value = val\n",
    "\n",
    "    def set_value(self,val):\n",
    "        self.my_value = val\n",
    "\n",
    "    def get_value(self):\n",
    "        return self.my_value\n",
    "\n",
    "    def get_name(self):\n",
    "        return self.my_name\n",
    "\n",
    "    def __repr__(self):\n",
    "        return \"%s(%1.2f)\" %(self.my_name, self.my_value)\n",
    "\n",
    "class DifferentiableElement(object):\n",
    "    \"\"\"\n",
    "    This is an abstract interface class implemented by all Network\n",
    "    parts that require some differentiable element.\n",
    "    \"\"\"\n",
    "    def output(self):\n",
    "        raise NotImplementedError(\"This is an abstract method\")\n",
    "\n",
    "    def dOutdX(self, elem):\n",
    "        raise NotImplementedError(\"This is an abstract method\")\n",
    "\n",
    "    def clear_cache(self):\n",
    "        \"\"\"clears any precalculated cached value\"\"\"\n",
    "        pass\n",
    "\n",
    "class Input(ValuedElement,DifferentiableElement):\n",
    "    \"\"\"\n",
    "    Representation of an Input into the network.\n",
    "    These may represent variable inputs as well as fixed inputs\n",
    "    (Thresholds) that are always set to -1.\n",
    "    \"\"\"\n",
    "    def __init__(self,name,val):\n",
    "        ValuedElement.__init__(self,name,val)\n",
    "        DifferentiableElement.__init__(self)\n",
    "\n",
    "    def output(self):\n",
    "        \"\"\"\n",
    "        Returns the output of this Input node.\n",
    "\n",
    "        returns: number (float or int)\n",
    "        \"\"\"\n",
    "        raise NotImplementedError(\"Implement me!\")\n",
    "\n",
    "    def dOutdX(self, elem):\n",
    "        \"\"\"\n",
    "        Returns the derivative of this Input node with respect to \n",
    "        elem.\n",
    "\n",
    "        elem: an instance of Weight\n",
    "\n",
    "        returns: number (float or int)\n",
    "        \"\"\"\n",
    "        raise NotImplementedError(\"Implement me!\")\n",
    "\n",
    "class Weight(ValuedElement):\n",
    "    \"\"\"\n",
    "    Representation of an weight into a Neural Unit.\n",
    "    \"\"\"\n",
    "    def __init__(self,name,val):\n",
    "        ValuedElement.__init__(self,name,val)\n",
    "        self.next_value = None\n",
    "\n",
    "    def set_next_value(self,val):\n",
    "        self.next_value = val\n",
    "\n",
    "    def update(self):\n",
    "        self.my_value = self.next_value\n",
    "\n",
    "\n",
    "class Neuron(DifferentiableElement):\n",
    "    \"\"\"\n",
    "    Representation of a single sigmoid Neural Unit.\n",
    "    \"\"\"\n",
    "    def __init__(self, name, inputs, input_weights, use_cache=True):\n",
    "        assert len(inputs)==len(input_weights)\n",
    "        for i in range(len(inputs)):\n",
    "            assert isinstance(inputs[i],(Neuron,Input))\n",
    "            assert isinstance(input_weights[i],Weight)\n",
    "        DifferentiableElement.__init__(self)\n",
    "        self.my_name = name\n",
    "        self.my_inputs = inputs # list of Neuron or Input instances\n",
    "        self.my_weights = input_weights # list of Weight instances\n",
    "        self.use_cache = use_cache\n",
    "        self.clear_cache()\n",
    "        self.my_descendant_weights = None\n",
    "        self.my_direct_weights = None\n",
    "\n",
    "    def get_descendant_weights(self):\n",
    "        \"\"\"\n",
    "        Returns a mapping of the names of direct weights into this neuron,\n",
    "        to all descendant weights. For example if neurons [n1, n2] were connected\n",
    "        to n5 via the weights [w1,w2], neurons [n3,n4] were connected to n6\n",
    "        via the weights [w3,w4] and neurons [n5,n6] were connected to n7 via\n",
    "        weights [w5,w6] then n7.get_descendant_weights() would return\n",
    "        {'w5': ['w1','w2'], 'w6': ['w3','w4']}\n",
    "        \"\"\"\n",
    "        if self.my_descendant_weights is None:\n",
    "            self.my_descendant_weights = {}\n",
    "            inputs = self.get_inputs()\n",
    "            weights = self.get_weights()\n",
    "            for i in range(len(weights)):\n",
    "                weight = weights[i]\n",
    "                weight_name = weight.get_name()\n",
    "                self.my_descendant_weights[weight_name] = set()\n",
    "                input = inputs[i]\n",
    "                if not isinstance(input, Input):\n",
    "                    descendants = input.get_descendant_weights()\n",
    "                    for name, s in descendants.items():\n",
    "                        st = self.my_descendant_weights[weight_name]\n",
    "                        st = st.union(s)\n",
    "                        st.add(name)\n",
    "                        self.my_descendant_weights[weight_name] = st\n",
    "\n",
    "        return self.my_descendant_weights\n",
    "\n",
    "    def isa_descendant_weight_of(self, target, weight):\n",
    "        \"\"\"\n",
    "        Checks if [target] is a indirect input weight into this Neuron\n",
    "        via the direct input weight [weight].\n",
    "        \"\"\"\n",
    "        weights = self.get_descendant_weights()\n",
    "        if weight.get_name() in weights:\n",
    "            return target.get_name() in weights[weight.get_name()]\n",
    "        else:\n",
    "            raise Exception(\"weight %s is not connect to this node: %s\"\n",
    "                            %(weight, self))\n",
    "\n",
    "    def has_weight(self, weight):\n",
    "        \"\"\"\n",
    "        Checks if [weight] is a direct input weight into this Neuron.\n",
    "        \"\"\"\n",
    "        return weight.get_name() in self.get_descendant_weights()\n",
    "\n",
    "    def get_weight_nodes(self):\n",
    "        return self.my_weights\n",
    "\n",
    "    def clear_cache(self):\n",
    "        self.my_output = None\n",
    "        self.my_doutdx = {}\n",
    "\n",
    "    def output(self):\n",
    "        # Implement compute_output instead!!\n",
    "        if self.use_cache:\n",
    "            # caching optimization, saves previously computed output.\n",
    "            if self.my_output is None:\n",
    "                self.my_output = self.compute_output()\n",
    "            return self.my_output\n",
    "        return self.compute_output()\n",
    "\n",
    "    def compute_output(self):\n",
    "        \"\"\"\n",
    "        Returns the output of this Neuron node, using a sigmoid as\n",
    "        the threshold function.\n",
    "\n",
    "        returns: number (float or int)\n",
    "        \"\"\"\n",
    "        raise NotImplementedError(\"Implement me!\")\n",
    "\n",
    "    def dOutdX(self, elem):\n",
    "        # Implement compute_doutdx instead!!\n",
    "        if self.use_cache:\n",
    "            # caching optimization, saves previously computed dOutdx.\n",
    "            if elem not in self.my_doutdx:\n",
    "                self.my_doutdx[elem] = self.compute_doutdx(elem)\n",
    "            return self.my_doutdx[elem]\n",
    "        return self.compute_doutdx(elem)\n",
    "\n",
    "    def compute_doutdx(self, elem):\n",
    "        \"\"\"\n",
    "        Returns the derivative of this Neuron node, with respect to weight\n",
    "        elem, calling output() and/or dOutdX() recursively over the inputs.\n",
    "\n",
    "        elem: an instance of Weight\n",
    "\n",
    "        returns: number (float/int)\n",
    "        \"\"\"\n",
    "        raise NotImplementedError(\"Implement me!\")\n",
    "\n",
    "    def get_weights(self):\n",
    "        return self.my_weights\n",
    "\n",
    "    def get_inputs(self):\n",
    "        return self.my_inputs\n",
    "\n",
    "    def get_name(self):\n",
    "        return self.my_name\n",
    "\n",
    "    def __repr__(self):\n",
    "        return \"Neuron(%s)\" %(self.my_name)\n",
    "\n",
    "class PerformanceElem(DifferentiableElement):\n",
    "    \"\"\"\n",
    "    Representation of a performance computing output node.\n",
    "    This element contains methods for setting the\n",
    "    desired output (d) and also computing the final\n",
    "    performance P of the network.\n",
    "\n",
    "    This implementation assumes a single output.\n",
    "    \"\"\"\n",
    "    def __init__(self,input,desired_value):\n",
    "        assert isinstance(input,(Input,Neuron))\n",
    "        DifferentiableElement.__init__(self)\n",
    "        self.my_input = input\n",
    "        self.my_desired_val = desired_value\n",
    "\n",
    "    def output(self):\n",
    "        \"\"\"\n",
    "        Returns the output of this PerformanceElem node.\n",
    "\n",
    "        returns: number (float/int)\n",
    "        \"\"\"\n",
    "        raise NotImplementedError(\"Implement me!\")\n",
    "\n",
    "    def dOutdX(self, elem):\n",
    "        \"\"\"\n",
    "        Returns the derivative of this PerformanceElem node with respect\n",
    "        to some weight, given by elem.\n",
    "\n",
    "        elem: an instance of Weight\n",
    "\n",
    "        returns: number (int/float)\n",
    "        \"\"\"\n",
    "        raise NotImplementedError(\"Implement me!\")\n",
    "\n",
    "    def set_desired(self,new_desired):\n",
    "        self.my_desired_val = new_desired\n",
    "\n",
    "    def get_input(self):\n",
    "        return self.my_input\n",
    "\n",
    "\n",
    "class Network(object):\n",
    "    def __init__(self,performance_node,neurons):\n",
    "        self.inputs =  []\n",
    "        self.weights = []\n",
    "        self.performance = performance_node\n",
    "        self.output = performance_node.get_input()\n",
    "        self.neurons = neurons[:]\n",
    "        self.neurons.sort(key=functools.cmp_to_key(alphabetize))\n",
    "        for neuron in self.neurons:\n",
    "            self.weights.extend(neuron.get_weights())\n",
    "            for i in neuron.get_inputs():\n",
    "                if isinstance(i,Input) and not ('i0' in i.get_name()) and not i in self.inputs:\n",
    "                    self.inputs.append(i)\n",
    "        self.weights.reverse()\n",
    "        self.weights = []\n",
    "        for n in self.neurons:\n",
    "            self.weights += n.get_weight_nodes()\n",
    "\n",
    "    @classmethod\n",
    "    def from_layers(self,performance_node,layers):\n",
    "        neurons = []\n",
    "        for layer in layers:\n",
    "            if layer.get_name() != 'l0':\n",
    "                neurons.extend(layer.get_elements())\n",
    "        return Network(performance_node, neurons)\n",
    "\n",
    "    def clear_cache(self):\n",
    "        for n in self.neurons:\n",
    "            n.clear_cache()\n",
    "\n",
    "def seed_random():\n",
    "    \"\"\"Seed the random number generator so that random\n",
    "    numbers are deterministically 'random'\"\"\"\n",
    "    random.seed(0)\n",
    "    np.random.seed(0)\n",
    "\n",
    "def random_weight():\n",
    "    \"\"\"Generate a deterministic random weight\"\"\"\n",
    "    # We found that random.randrange(-1,2) to work well emperically \n",
    "    # even though it produces randomly 3 integer values -1, 0, and 1.\n",
    "    return random.randrange(-1, 2)\n",
    "\n",
    "    # Uncomment the following if you want to try a uniform distribuiton \n",
    "    # of random numbers compare and see what the difference is.\n",
    "    # return random.uniform(-1, 1)\n",
    "\n",
    "    # When training larger networks, initialization with small, random\n",
    "    # values centered around 0 is also common, like the line below:\n",
    "    # return np.random.normal(0,0.1)\n",
    "\n",
    "def make_neural_net_basic():\n",
    "    \"\"\"\n",
    "    Constructs a 2-input, 1-output Network with a single neuron.\n",
    "    This network is used to test your network implementation\n",
    "    and a guide for constructing more complex networks.\n",
    "\n",
    "    Naming convention for each of the elements:\n",
    "\n",
    "    Input: 'i'+ input_number\n",
    "    Example: 'i1', 'i2', etc.\n",
    "    Conventions: Start numbering at 1.\n",
    "                 For the -1 inputs, use 'i0' for everything\n",
    "\n",
    "    Weight: 'w' + from_identifier + to_identifier\n",
    "    Examples: 'w1A' for weight from Input i1 to Neuron A\n",
    "              'wAB' for weight from Neuron A to Neuron B\n",
    "\n",
    "    Neuron: alphabet_letter\n",
    "    Convention: Order names by distance to the inputs.\n",
    "                If equal distant, then order them left to right.\n",
    "    Example:  'A' is the neuron closest to the inputs.\n",
    "\n",
    "    All names should be unique.\n",
    "    You must follow these conventions in order to pass all the tests.\n",
    "    \"\"\"\n",
    "    i0 = Input('i0', -1.0) # this input is immutable\n",
    "    i1 = Input('i1', 0.0)\n",
    "    i2 = Input('i2', 0.0)\n",
    "\n",
    "    w1A = Weight('w1A', 1)\n",
    "    w2A = Weight('w2A', 1)\n",
    "    wA  = Weight('wA', 1)\n",
    "\n",
    "    # Inputs must be in the same order as their associated weights\n",
    "    A = Neuron('A', [i1,i2,i0], [w1A,w2A,wA])\n",
    "    P = PerformanceElem(A, 0.0)\n",
    "\n",
    "    # Package all the components into a network\n",
    "    # First list the PerformanceElem P, Then list all neurons afterwards\n",
    "    net = Network(P,[A])\n",
    "    return net\n",
    "\n",
    "def make_neural_net_two_layer():\n",
    "    \"\"\"\n",
    "    Create a 2-input, 1-output Network with three neurons.\n",
    "    There should be two neurons at the first level, each receiving both inputs\n",
    "    Both of the first level neurons should feed into the second layer neuron.\n",
    "\n",
    "    See 'make_neural_net_basic' for required naming convention for inputs,\n",
    "    weights, and neurons.\n",
    "    \"\"\"\n",
    "    raise NotImplementedError(\"Implement me!\")\n",
    "\n",
    "\n",
    "def make_neural_net_challenging():\n",
    "    \"\"\"\n",
    "    Design a network that can in-theory solve all 3 problems described in\n",
    "    the lab instructions.  Your final network should contain\n",
    "    at most 5 neuron units.\n",
    "\n",
    "    See 'make_neural_net_basic' for required naming convention for inputs,\n",
    "    weights, and neurons.\n",
    "    \"\"\"\n",
    "    raise NotImplementedError(\"Implement me!\")\n",
    "\n",
    "\n",
    "def make_neural_net_two_moons():\n",
    "    \"\"\"\n",
    "    Create an overparametrized network with 40 neurons in the first layer\n",
    "    and a single neuron in the last. This network is more than enough to solve\n",
    "    the two-moons dataset, and as a result will over-fit the data if trained\n",
    "    excessively.\n",
    "\n",
    "    See 'make_neural_net_basic' for required naming convention for inputs,\n",
    "    weights, and neurons.\n",
    "    \"\"\"\n",
    "    raise NotImplementedError(\"Implement me!\")\n",
    "\n",
    "\n",
    "def train(network,\n",
    "          data,      # training data\n",
    "          rate=1.0,  # learning rate\n",
    "          target_abs_mean_performance=0.0001,\n",
    "          max_iterations=10000,\n",
    "          verbose=False):\n",
    "    \"\"\"Run back-propagation training algorithm on a given network.\n",
    "    with training [data].   The training runs for [max_iterations]\n",
    "    or until [target_abs_mean_performance] is reached.\n",
    "    \"\"\"\n",
    "\n",
    "    iteration = 0\n",
    "    while iteration < max_iterations:\n",
    "        fully_trained = False\n",
    "        performances = []  # store performance on each data point\n",
    "        for datum in data:\n",
    "            # set network inputs\n",
    "            for i in range(len(network.inputs)):\n",
    "                network.inputs[i].set_value(datum[i])\n",
    "\n",
    "            # set network desired output\n",
    "            network.performance.set_desired(datum[-1])\n",
    "\n",
    "            # clear cached calculations\n",
    "            network.clear_cache()\n",
    "\n",
    "            # compute all the weight updates\n",
    "            for w in network.weights:\n",
    "                w.set_next_value(w.get_value() +\n",
    "                                 rate * network.performance.dOutdX(w))\n",
    "\n",
    "            # set the new weights\n",
    "            for w in network.weights:\n",
    "                w.update()\n",
    "\n",
    "            # save the performance value\n",
    "            performances.append(network.performance.output())\n",
    "\n",
    "            # clear cached calculations\n",
    "            network.clear_cache()\n",
    "\n",
    "        # compute the mean performance value\n",
    "        abs_mean_performance = abs_mean(performances)\n",
    "\n",
    "        if abs_mean_performance < target_abs_mean_performance:\n",
    "            if verbose:\n",
    "                print(\"iter %d: training complete.\\n\"\\\n",
    "                      \"mean-abs-performance threshold %s reached (%1.6f)\"\\\n",
    "                      %(iteration,\n",
    "                        target_abs_mean_performance,\n",
    "                        abs_mean_performance))\n",
    "            break\n",
    "\n",
    "        iteration += 1\n",
    "\n",
    "        if iteration % 10 == 0 and verbose:\n",
    "            print(\"iter %d: mean-abs-performance = %1.6f\"\\\n",
    "                  %(iteration,\n",
    "                    abs_mean_performance))\n",
    "\n",
    "    print('weights:', network.weights)\n",
    "\n",
    "\n",
    "def test(network, data, verbose=False):\n",
    "    \"\"\"Test the neural net on some given data.\"\"\"\n",
    "    correct = 0\n",
    "    for datum in data:\n",
    "\n",
    "        for i in range(len(network.inputs)):\n",
    "            network.inputs[i].set_value(datum[i])\n",
    "\n",
    "        # clear cached calculations\n",
    "        network.clear_cache()\n",
    "\n",
    "        result = network.output.output()\n",
    "        prediction = round(result)\n",
    "\n",
    "        network.clear_cache()\n",
    "\n",
    "        if prediction == datum[-1]:\n",
    "            correct+=1\n",
    "            if verbose:\n",
    "                print(\"test(%s) returned: %s => %s [%s]\" %(str(datum),\n",
    "                                                           str(result),\n",
    "                                                           datum[-1],\n",
    "                                                           \"correct\"))\n",
    "        else:\n",
    "            if verbose:\n",
    "                print(\"test(%s) returned: %s => %s [%s]\" %(str(datum),\n",
    "                                                           str(result),\n",
    "                                                           datum[-1],\n",
    "                                                           \"wrong\"))\n",
    "\n",
    "    return float(correct)/len(data)"
   ]
  },
  {
   "cell_type": "markdown",
   "metadata": {},
   "source": [
    "### Test Function"
   ]
  },
  {
   "cell_type": "code",
   "execution_count": 6,
   "metadata": {},
   "outputs": [],
   "source": [
    "def main(neural_net_func, data_sets, rate=1.0, max_iterations=10000):\n",
    "    verbose = False\n",
    "    for name, training_data, test_data in data_sets:\n",
    "        print(\"-\"*40)\n",
    "        print(\"Training on %s data\" %(name))\n",
    "        nn = neural_net_func()\n",
    "        train(nn, training_data, rate=rate, max_iterations=max_iterations,\n",
    "              verbose=verbose)\n",
    "        print(\"Trained weights:\")\n",
    "        for w in nn.weights:\n",
    "            print(\"Weight '%s': %f\"%(w.get_name(),w.get_value()))\n",
    "        print(\"Testing on %s test-data\" %(name))\n",
    "        result = test(nn, test_data, verbose=verbose)\n",
    "        print(\"Accuracy: %f\"%(result))"
   ]
  },
  {
   "cell_type": "markdown",
   "metadata": {},
   "source": [
    "## Implement Neural Network"
   ]
  },
  {
   "cell_type": "markdown",
   "metadata": {},
   "source": [
    "### outputs"
   ]
  },
  {
   "cell_type": "markdown",
   "metadata": {},
   "source": [
    "output functions show result of each unit in network."
   ]
  },
  {
   "cell_type": "markdown",
   "metadata": {},
   "source": [
    "#### Input class outputs"
   ]
  },
  {
   "cell_type": "markdown",
   "metadata": {},
   "source": [
    "Input nodes represent values of inputs and output given inputs."
   ]
  },
  {
   "cell_type": "code",
   "execution_count": 7,
   "metadata": {},
   "outputs": [],
   "source": [
    "def output(self):\n",
    "    \"\"\"\n",
    "    Returns the output of this Input node.\n",
    "\n",
    "    returns: number (float or int)\n",
    "    \"\"\"\n",
    "    return self.get_value()"
   ]
  },
  {
   "cell_type": "code",
   "execution_count": 8,
   "metadata": {},
   "outputs": [],
   "source": [
    "Input.output = output"
   ]
  },
  {
   "cell_type": "markdown",
   "metadata": {},
   "source": [
    "#### Neuron class outputs"
   ]
  },
  {
   "cell_type": "markdown",
   "metadata": {},
   "source": [
    "Neuron nodes are the activation units and use activation functions such as sigmoid function to output the value. At the beginning, activation of node is calculated as z with forward propagation and given to sigmoid function to return as output."
   ]
  },
  {
   "cell_type": "markdown",
   "metadata": {},
   "source": [
    "Sigmoid Function:\n",
    "\\begin{equation}\n",
    "g(z) = \\frac{1}{1 + \\exp(-z)}\n",
    "\\end{equation}"
   ]
  },
  {
   "cell_type": "code",
   "execution_count": 9,
   "metadata": {},
   "outputs": [],
   "source": [
    "def compute_output(self):\n",
    "    \"\"\"\n",
    "    Returns the output of this Neuron node, using a sigmoid as\n",
    "    the threshold function.\n",
    "\n",
    "    returns: number (float or int)\n",
    "    \"\"\"\n",
    "    inputs = self.get_inputs()\n",
    "    weights = self.get_weights()\n",
    "\n",
    "    z = 0\n",
    "    for i in range(len(inputs)):\n",
    "        z += weights[i].get_value() * inputs[i].output()\n",
    "\n",
    "    z = 1.0 / (1 + math.exp(-z))\n",
    "\n",
    "    return z"
   ]
  },
  {
   "cell_type": "code",
   "execution_count": 10,
   "metadata": {},
   "outputs": [],
   "source": [
    "Neuron.compute_output = compute_output"
   ]
  },
  {
   "cell_type": "markdown",
   "metadata": {},
   "source": [
    "#### PerformanceElem class outputs"
   ]
  },
  {
   "cell_type": "markdown",
   "metadata": {},
   "source": [
    "Performance nodes represent performance and can be calculated using mean squared error. Minus sign is because we are using performance which is in opposite of error."
   ]
  },
  {
   "cell_type": "markdown",
   "metadata": {},
   "source": [
    "\\begin{equation}\n",
    "Performance = -\\frac{1}{2} \\times (desired\\_value - result\\_value)^2\n",
    "\\end{equation}"
   ]
  },
  {
   "cell_type": "code",
   "execution_count": 11,
   "metadata": {},
   "outputs": [],
   "source": [
    "def output(self):\n",
    "    \"\"\"\n",
    "    Returns the output of this PerformanceElem node.\n",
    "\n",
    "    returns: number (float/int)\n",
    "    \"\"\"\n",
    "    return (-0.5 * (self.my_desired_val - self.my_input.output()) ** 2)"
   ]
  },
  {
   "cell_type": "code",
   "execution_count": 12,
   "metadata": {},
   "outputs": [],
   "source": [
    "PerformanceElem.output = output"
   ]
  },
  {
   "cell_type": "markdown",
   "metadata": {},
   "source": [
    "### Partial Derivatives"
   ]
  },
  {
   "cell_type": "markdown",
   "metadata": {},
   "source": [
    "Partial derivatives of nodes are calculated to use in finding weight algorithms such as Gradient Descent."
   ]
  },
  {
   "cell_type": "markdown",
   "metadata": {},
   "source": [
    "#### Input class partial derivative"
   ]
  },
  {
   "cell_type": "markdown",
   "metadata": {},
   "source": [
    "input nodes represent inputs as constant values therefore their partial deritives equal to zero."
   ]
  },
  {
   "cell_type": "code",
   "execution_count": 13,
   "metadata": {},
   "outputs": [],
   "source": [
    "def dOutdX(self, elem):\n",
    "    \"\"\"\n",
    "    Returns the derivative of this Input node with respect to \n",
    "    elem.\n",
    "\n",
    "    elem: an instance of Weight\n",
    "\n",
    "    returns: number (float or int)\n",
    "    \"\"\"\n",
    "    return 0"
   ]
  },
  {
   "cell_type": "code",
   "execution_count": 14,
   "metadata": {},
   "outputs": [],
   "source": [
    "Input.dOutdX = dOutdX"
   ]
  },
  {
   "cell_type": "markdown",
   "metadata": {},
   "source": [
    "#### Neuron class partial derivative"
   ]
  },
  {
   "cell_type": "markdown",
   "metadata": {},
   "source": [
    "Chain rule is used to calculate partial derivate for neuron nodes:"
   ]
  },
  {
   "cell_type": "markdown",
   "metadata": {},
   "source": [
    "\\begin{equation}\n",
    "\\frac{\\partial g(z)}{\\partial w_i} = \\frac{\\partial g(z)}{\\partial z} \\times \\frac{\\partial z}{\\partial w_i}\n",
    "\\end{equation}"
   ]
  },
  {
   "cell_type": "markdown",
   "metadata": {},
   "source": [
    "For sigmoid function:"
   ]
  },
  {
   "cell_type": "markdown",
   "metadata": {},
   "source": [
    "\\begin{equation}\n",
    "\\frac{\\partial g(z)}{\\partial z} = g(z) \\times (1 - g(z))\n",
    "\\end{equation}"
   ]
  },
  {
   "cell_type": "markdown",
   "metadata": {},
   "source": [
    "For input weights we can calculate $\\frac{\\partial z}{\\partial w_i}$ as follows:"
   ]
  },
  {
   "cell_type": "markdown",
   "metadata": {},
   "source": [
    "\\begin{equation}\n",
    "\\frac{\\partial z}{\\partial w_i} = input_i\n",
    "\\end{equation}"
   ]
  },
  {
   "cell_type": "markdown",
   "metadata": {},
   "source": [
    "And for not input weight we can calculate $\\frac{\\partial z}{\\partial w_i}$ using descendant weights $w_j$ s."
   ]
  },
  {
   "cell_type": "markdown",
   "metadata": {},
   "source": [
    "\\begin{equation}\n",
    "\\frac{\\partial z}{\\partial w_i} = \\sum\\limits_{j}^{} w_j \\times \\frac{\\partial input_j}{\\partial w_i}\n",
    "\\end{equation}"
   ]
  },
  {
   "cell_type": "code",
   "execution_count": 15,
   "metadata": {},
   "outputs": [],
   "source": [
    "def compute_doutdx(self, elem):\n",
    "    \"\"\"\n",
    "    Returns the derivative of this Neuron node, with respect to weight\n",
    "    elem, calling output() and/or dOutdX() recursively over the inputs.\n",
    "\n",
    "    elem: an instance of Weight\n",
    "\n",
    "    returns: number (float/int)\n",
    "    \"\"\"\n",
    "    output = self.output()\n",
    "    dGdZ = output * (1 - output)\n",
    "\n",
    "    if self.has_weight(elem):            \n",
    "        index = self.my_weights.index(elem)\n",
    "        return dGdZ * self.get_inputs()[index].output()\n",
    "    else:\n",
    "        dZdW = 0\n",
    "        for i in range(len(self.get_weights())):\n",
    "            current_weight = self.my_weights[i]\n",
    "            if self.isa_descendant_weight_of(elem, current_weight):\n",
    "                dZdW += current_weight.get_value() * self.get_inputs()[i].dOutdX(elem)\n",
    "        return dGdZ * dZdW"
   ]
  },
  {
   "cell_type": "code",
   "execution_count": 16,
   "metadata": {},
   "outputs": [],
   "source": [
    "Neuron.compute_doutdx = compute_doutdx"
   ]
  },
  {
   "cell_type": "markdown",
   "metadata": {},
   "source": [
    "#### PerformanceElem class partial derivative"
   ]
  },
  {
   "cell_type": "markdown",
   "metadata": {},
   "source": [
    "We can calculate $\\frac{\\partial P}{\\partial w_i}$ as follows:"
   ]
  },
  {
   "cell_type": "markdown",
   "metadata": {},
   "source": [
    "\\begin{equation}\n",
    "\\frac{\\partial P}{\\partial w_i} = (desired\\_value - result\\_value) \\times \\frac{\\partial output}{\\partial w_i}\n",
    "\\end{equation}"
   ]
  },
  {
   "cell_type": "code",
   "execution_count": 17,
   "metadata": {},
   "outputs": [],
   "source": [
    "def dOutdX(self, elem):\n",
    "    \"\"\"\n",
    "    Returns the derivative of this PerformanceElem node with respect\n",
    "    to some weight, given by elem.\n",
    "\n",
    "    elem: an instance of Weight\n",
    "\n",
    "    returns: number (int/float)\n",
    "    \"\"\"\n",
    "    return (self.my_desired_val - self.my_input.output()) * self.my_input.dOutdX(elem)"
   ]
  },
  {
   "cell_type": "code",
   "execution_count": 18,
   "metadata": {},
   "outputs": [],
   "source": [
    "PerformanceElem.dOutdX = dOutdX"
   ]
  },
  {
   "cell_type": "markdown",
   "metadata": {},
   "source": [
    "### Results"
   ]
  },
  {
   "cell_type": "markdown",
   "metadata": {},
   "source": [
    "We test current results with \"simple_data_sets\" dataset containing AND and OR datasets."
   ]
  },
  {
   "cell_type": "code",
   "execution_count": 19,
   "metadata": {},
   "outputs": [
    {
     "name": "stdout",
     "output_type": "stream",
     "text": [
      "----------------------------------------\n",
      "Training on OR data\n",
      "weights: [w1A(10.78), w2A(10.78), wA(6.69)]\n",
      "Trained weights:\n",
      "Weight 'w1A': 10.777776\n",
      "Weight 'w2A': 10.778222\n",
      "Weight 'wA': 6.686619\n",
      "Testing on OR test-data\n",
      "Accuracy: 1.000000\n",
      "----------------------------------------\n",
      "Training on AND data\n",
      "weights: [w1A(10.50), w2A(10.50), wA(14.37)]\n",
      "Trained weights:\n",
      "Weight 'w1A': 10.499844\n",
      "Weight 'w2A': 10.499561\n",
      "Weight 'wA': 14.366979\n",
      "Testing on AND test-data\n",
      "Accuracy: 1.000000\n"
     ]
    }
   ],
   "source": [
    "main(make_neural_net_basic, simple_data_sets)"
   ]
  },
  {
   "cell_type": "markdown",
   "metadata": {},
   "source": [
    "Result was successful and reached 100% accuracy."
   ]
  },
  {
   "cell_type": "markdown",
   "metadata": {},
   "source": [
    "## Finite Difference"
   ]
  },
  {
   "cell_type": "markdown",
   "metadata": {},
   "source": [
    "Finite difference can be used to calculate predictions of partial derivatives and compare result values with predicted values to test correctness of model. Following functions show implementation of finite difference for neural network model:"
   ]
  },
  {
   "cell_type": "code",
   "execution_count": 20,
   "metadata": {},
   "outputs": [],
   "source": [
    "def calculate_finite_difference(network, w):\n",
    "    eps = 1e-8\n",
    "    network.clear_cache()\n",
    "    previous_f = network.performance.output()\n",
    "    w.set_value(w.get_value() + eps)\n",
    "    network.clear_cache()\n",
    "    eps_f = network.performance.output()\n",
    "    w.set_value(w.get_value() - eps)\n",
    "    return (eps_f - previous_f) / eps"
   ]
  },
  {
   "cell_type": "code",
   "execution_count": 21,
   "metadata": {},
   "outputs": [],
   "source": [
    "def finite_difference(network):\n",
    "    result = True\n",
    "    for w in network.weights:\n",
    "        derivative_output = network.performance.dOutdX(w)\n",
    "        derivative_finite = calculate_finite_difference(network, w)\n",
    "        if abs(derivative_output - derivative_finite) > 1e-4:\n",
    "            result = False\n",
    "            break\n",
    "    network.clear_cache()\n",
    "    return result"
   ]
  },
  {
   "cell_type": "markdown",
   "metadata": {},
   "source": [
    "### Results"
   ]
  },
  {
   "cell_type": "markdown",
   "metadata": {},
   "source": [
    "finite_difference is tested on \"simple_data_set\" dataset. Following changes are necessary to test main function with finite difference."
   ]
  },
  {
   "cell_type": "code",
   "execution_count": 22,
   "metadata": {},
   "outputs": [],
   "source": [
    "def main(neural_net_func, data_sets, rate=1.0, max_iterations=10000):\n",
    "    verbose = False\n",
    "    for name, training_data, test_data in data_sets:\n",
    "        print(\"-\"*40)\n",
    "        print(\"Training on %s data\" %(name))\n",
    "        nn = neural_net_func()\n",
    "        train(nn, training_data, rate=rate, max_iterations=max_iterations,\n",
    "              verbose=verbose)\n",
    "        print(\"Trained weights:\")\n",
    "        for w in nn.weights:\n",
    "            print(\"Weight '%s': %f\"%(w.get_name(),w.get_value()))\n",
    "        print(\"Testing on %s test-data\" %(name))\n",
    "        result = test(nn, test_data, verbose=verbose)\n",
    "        print(\"Accuracy: %f\"%(result))\n",
    "        print(\"Finite Difference Check:\", finite_difference(nn))"
   ]
  },
  {
   "cell_type": "code",
   "execution_count": 23,
   "metadata": {},
   "outputs": [
    {
     "name": "stdout",
     "output_type": "stream",
     "text": [
      "----------------------------------------\n",
      "Training on OR data\n",
      "weights: [w1A(10.78), w2A(10.78), wA(6.69)]\n",
      "Trained weights:\n",
      "Weight 'w1A': 10.777776\n",
      "Weight 'w2A': 10.778222\n",
      "Weight 'wA': 6.686619\n",
      "Testing on OR test-data\n",
      "Accuracy: 1.000000\n",
      "Finite Difference Check: True\n",
      "----------------------------------------\n",
      "Training on AND data\n",
      "weights: [w1A(10.50), w2A(10.50), wA(14.37)]\n",
      "Trained weights:\n",
      "Weight 'w1A': 10.499844\n",
      "Weight 'w2A': 10.499561\n",
      "Weight 'wA': 14.366979\n",
      "Testing on AND test-data\n",
      "Accuracy: 1.000000\n",
      "Finite Difference Check: True\n"
     ]
    }
   ],
   "source": [
    "main(make_neural_net_basic, simple_data_sets)"
   ]
  },
  {
   "cell_type": "markdown",
   "metadata": {},
   "source": [
    "Result was successful and finite_difference function returned True value which means all weights were validated."
   ]
  },
  {
   "cell_type": "markdown",
   "metadata": {},
   "source": [
    "## Implementing Two Layer Neural Network"
   ]
  },
  {
   "cell_type": "markdown",
   "metadata": {},
   "source": [
    "<img src=\"images/twoLayer.png\" width=400/>"
   ]
  },
  {
   "cell_type": "markdown",
   "metadata": {},
   "source": [
    "Following code shows implementation of two layer neural network shown above using previous implementations."
   ]
  },
  {
   "cell_type": "code",
   "execution_count": 24,
   "metadata": {},
   "outputs": [],
   "source": [
    "def make_neural_net_two_layer():\n",
    "    \"\"\"\n",
    "    Create a 2-input, 1-output Network with three neurons.\n",
    "    There should be two neurons at the first level, each receiving both inputs\n",
    "    Both of the first level neurons should feed into the second layer neuron.\n",
    "\n",
    "    See 'make_neural_net_basic' for required naming convention for inputs,\n",
    "    weights, and neurons.\n",
    "    \"\"\"\n",
    "    seed_random()\n",
    "\n",
    "    i0 = Input('i0', -1.0)\n",
    "    i1 = Input('i1', 0.0)\n",
    "    i2 = Input('i2', 0.0)\n",
    "\n",
    "    w1A = Weight('w1A', random_weight())\n",
    "    w2A = Weight('w2A', random_weight())\n",
    "    wA = Weight('wA', random_weight())\n",
    "\n",
    "\n",
    "    w1B = Weight('w1B', random_weight())\n",
    "    w2B = Weight('w2B', random_weight())\n",
    "    wB = Weight('wB', random_weight())\n",
    "\n",
    "    wAC = Weight('wAC', random_weight())\n",
    "    wBC = Weight('wBC', random_weight())\n",
    "    wC = Weight('wC', random_weight())\n",
    "\n",
    "    A = Neuron('A', [i1, i2, i0], [w1A, w2A, wA])\n",
    "    B = Neuron('B', [i1, i2, i0], [w1B, w2B, wB])\n",
    "    C = Neuron('C', [A, B, i0], [wAC, wBC, wC])\n",
    "\n",
    "    P = PerformanceElem(C, 0.0)\n",
    "    net = Network(P, [A, B, C])\n",
    "\n",
    "    return net"
   ]
  },
  {
   "cell_type": "markdown",
   "metadata": {},
   "source": [
    "### Results"
   ]
  },
  {
   "cell_type": "markdown",
   "metadata": {},
   "source": [
    "We test current result with \"simple_data_sets\" concatinated with \"harder_data_sets\" on model generated with make_neural_net_two_layer."
   ]
  },
  {
   "cell_type": "code",
   "execution_count": 25,
   "metadata": {},
   "outputs": [
    {
     "name": "stdout",
     "output_type": "stream",
     "text": [
      "----------------------------------------\n",
      "Training on OR data\n",
      "weights: [w1A(-2.90), w2A(-2.88), wA(-1.67), w1B(4.72), w2B(4.75), wB(2.86), wAC(-4.91), wBC(8.00), wC(1.75)]\n",
      "Trained weights:\n",
      "Weight 'w1A': -2.904916\n",
      "Weight 'w2A': -2.879784\n",
      "Weight 'wA': -1.670792\n",
      "Weight 'w1B': 4.721640\n",
      "Weight 'w2B': 4.745236\n",
      "Weight 'wB': 2.861249\n",
      "Weight 'wAC': -4.914305\n",
      "Weight 'wBC': 8.000898\n",
      "Weight 'wC': 1.754833\n",
      "Testing on OR test-data\n",
      "Accuracy: 1.000000\n",
      "Finite Difference Check: True\n",
      "----------------------------------------\n",
      "Training on AND data\n",
      "weights: [w1A(-3.08), w2A(-3.02), wA(-3.96), w1B(3.75), w2B(3.80), wB(5.00), wAC(-6.43), wBC(7.93), wC(1.24)]\n",
      "Trained weights:\n",
      "Weight 'w1A': -3.078848\n",
      "Weight 'w2A': -3.015028\n",
      "Weight 'wA': -3.962159\n",
      "Weight 'w1B': 3.747336\n",
      "Weight 'w2B': 3.804627\n",
      "Weight 'wB': 5.004915\n",
      "Weight 'wAC': -6.430871\n",
      "Weight 'wBC': 7.933264\n",
      "Weight 'wC': 1.235360\n",
      "Testing on AND test-data\n",
      "Accuracy: 1.000000\n",
      "Finite Difference Check: True\n",
      "----------------------------------------\n",
      "Training on EQUAL data\n",
      "weights: [w1A(-6.71), w2A(-6.54), wA(-2.73), w1B(-4.93), w2B(-4.90), wB(-7.32), wAC(10.32), wBC(-10.19), wC(-4.85)]\n",
      "Trained weights:\n",
      "Weight 'w1A': -6.714234\n",
      "Weight 'w2A': -6.543802\n",
      "Weight 'wA': -2.729777\n",
      "Weight 'w1B': -4.933870\n",
      "Weight 'w2B': -4.901881\n",
      "Weight 'wB': -7.323522\n",
      "Weight 'wAC': 10.318571\n",
      "Weight 'wBC': -10.191227\n",
      "Weight 'wC': -4.846239\n",
      "Testing on EQUAL test-data\n",
      "Accuracy: 1.000000\n",
      "Finite Difference Check: True\n",
      "----------------------------------------\n",
      "Training on NOT_EQUAL data\n",
      "weights: [w1A(-6.71), w2A(-6.54), wA(-2.73), w1B(-4.93), w2B(-4.90), wB(-7.32), wAC(-10.32), wBC(10.19), wC(4.85)]\n",
      "Trained weights:\n",
      "Weight 'w1A': -6.714234\n",
      "Weight 'w2A': -6.543802\n",
      "Weight 'wA': -2.729777\n",
      "Weight 'w1B': -4.933870\n",
      "Weight 'w2B': -4.901881\n",
      "Weight 'wB': -7.323522\n",
      "Weight 'wAC': -10.318571\n",
      "Weight 'wBC': 10.191227\n",
      "Weight 'wC': 4.846239\n",
      "Testing on NOT_EQUAL test-data\n",
      "Accuracy: 1.000000\n",
      "Finite Difference Check: True\n",
      "----------------------------------------\n",
      "Training on horizontal-bands data\n",
      "weights: [w1A(0.09), w2A(-4.82), wA(-11.74), w1B(-0.23), w2B(7.34), wB(3.60), wAC(9.91), wBC(9.47), wC(14.31)]\n",
      "Trained weights:\n",
      "Weight 'w1A': 0.088970\n",
      "Weight 'w2A': -4.818180\n",
      "Weight 'wA': -11.736355\n",
      "Weight 'w1B': -0.230610\n",
      "Weight 'w2B': 7.342591\n",
      "Weight 'wB': 3.604769\n",
      "Weight 'wAC': 9.912564\n",
      "Weight 'wBC': 9.474189\n",
      "Weight 'wC': 14.312040\n",
      "Testing on horizontal-bands test-data\n",
      "Accuracy: 1.000000\n",
      "Finite Difference Check: True\n",
      "----------------------------------------\n",
      "Training on vertical-bands data\n",
      "weights: [w1A(-4.18), w2A(0.07), wA(-10.14), w1B(-6.12), w2B(0.21), wB(-2.91), wAC(10.46), wBC(-10.21), wC(5.04)]\n",
      "Trained weights:\n",
      "Weight 'w1A': -4.179059\n",
      "Weight 'w2A': 0.073090\n",
      "Weight 'wA': -10.140434\n",
      "Weight 'w1B': -6.116850\n",
      "Weight 'w2B': 0.209211\n",
      "Weight 'wB': -2.907297\n",
      "Weight 'wAC': 10.460442\n",
      "Weight 'wBC': -10.214859\n",
      "Weight 'wC': 5.042128\n",
      "Testing on vertical-bands test-data\n",
      "Accuracy: 1.000000\n",
      "Finite Difference Check: True\n",
      "----------------------------------------\n",
      "Training on diagonal-band data\n",
      "weights: [w1A(4.34), w2A(-3.91), wA(-3.34), w1B(3.48), w2B(-3.69), wB(3.50), wAC(8.76), wBC(-9.08), wC(4.36)]\n",
      "Trained weights:\n",
      "Weight 'w1A': 4.336851\n",
      "Weight 'w2A': -3.905844\n",
      "Weight 'wA': -3.336243\n",
      "Weight 'w1B': 3.484567\n",
      "Weight 'w2B': -3.687835\n",
      "Weight 'wB': 3.495438\n",
      "Weight 'wAC': 8.755707\n",
      "Weight 'wBC': -9.075091\n",
      "Weight 'wC': 4.364637\n",
      "Testing on diagonal-band test-data\n",
      "Accuracy: 1.000000\n",
      "Finite Difference Check: True\n",
      "----------------------------------------\n",
      "Training on inverse-diagonal-band data\n",
      "weights: [w1A(4.34), w2A(-3.91), wA(-3.34), w1B(3.48), w2B(-3.69), wB(3.50), wAC(-8.76), wBC(9.08), wC(-4.36)]\n",
      "Trained weights:\n",
      "Weight 'w1A': 4.336851\n",
      "Weight 'w2A': -3.905844\n",
      "Weight 'wA': -3.336243\n",
      "Weight 'w1B': 3.484567\n",
      "Weight 'w2B': -3.687835\n",
      "Weight 'wB': 3.495438\n",
      "Weight 'wAC': -8.755707\n",
      "Weight 'wBC': 9.075091\n",
      "Weight 'wC': -4.364637\n",
      "Testing on inverse-diagonal-band test-data\n",
      "Accuracy: 1.000000\n",
      "Finite Difference Check: True\n"
     ]
    }
   ],
   "source": [
    "main(make_neural_net_two_layer, simple_data_sets + harder_data_sets)"
   ]
  },
  {
   "cell_type": "markdown",
   "metadata": {},
   "source": [
    "Result was successful and reached 100% accuracy  on given datasets."
   ]
  },
  {
   "cell_type": "markdown",
   "metadata": {},
   "source": [
    "## Plot Decision Boundary"
   ]
  },
  {
   "cell_type": "markdown",
   "metadata": {},
   "source": [
    "Following function is used to plot a scatter including decision boundary and values of given dataset if dataset is given to function."
   ]
  },
  {
   "cell_type": "code",
   "execution_count": 26,
   "metadata": {},
   "outputs": [],
   "source": [
    "def plot_decision_boundary(network, xmin, xmax, ymin, ymax, data_sets = []):\n",
    "    interval = (xmax - xmin) / 200\n",
    "    a_points = []\n",
    "    b_points = []\n",
    "    for x in np.arange(xmin, xmax, interval):\n",
    "        for y in np.arange(ymin, ymax, interval):\n",
    "            network.inputs[0].set_value(x)\n",
    "            network.inputs[1].set_value(y)\n",
    "            network.clear_cache()\n",
    "            result = network.output.output()\n",
    "            if result > 0.5:\n",
    "                a_points.append((x, y))\n",
    "            else:\n",
    "                b_points.append((x, y))\n",
    "\n",
    "            network.clear_cache()\n",
    "\n",
    "    x = list(map(lambda x: x[0], a_points))\n",
    "    y = list(map(lambda x: x[1], a_points))\n",
    "    plt.scatter(x, y, color = \"#999cca\", alpha = 0.1)\n",
    "\n",
    "    x = list(map(lambda x: x[0], b_points))\n",
    "    y = list(map(lambda x: x[1], b_points))\n",
    "    plt.scatter(x, y, color = \"#cb6e8f\", alpha = 0.1)\n",
    "\n",
    "    for data in data_sets:\n",
    "        if data[2] == 1:\n",
    "            plt.scatter(data[0], data[1], color=\"#5a4c9c\", alpha=1)\n",
    "        else:\n",
    "            plt.scatter(data[0], data[1], color=\"#9d0141\", alpha=1)\n",
    "\n",
    "    plt.title(\"Decision Boundary\")\n",
    "    plt.show()"
   ]
  },
  {
   "cell_type": "markdown",
   "metadata": {},
   "source": [
    "### Results"
   ]
  },
  {
   "cell_type": "markdown",
   "metadata": {},
   "source": [
    "plot_decision_boundary is tested on \"two\" dataset with model generated by make_neural_net_two_layer. Following changes are necessary to test main function with decision boundary plot."
   ]
  },
  {
   "cell_type": "code",
   "execution_count": 27,
   "metadata": {},
   "outputs": [],
   "source": [
    "def main(neural_net_func, data_sets, rate=1.0, max_iterations=10000):\n",
    "    verbose = False\n",
    "    for name, training_data, test_data in data_sets:\n",
    "        print(\"-\"*40)\n",
    "        print(\"Training on %s data\" %(name))\n",
    "        nn = neural_net_func()\n",
    "        train(nn, training_data, rate=rate, max_iterations=max_iterations,\n",
    "              verbose=verbose)\n",
    "        print(\"Trained weights:\")\n",
    "        for w in nn.weights:\n",
    "            print(\"Weight '%s': %f\"%(w.get_name(),w.get_value()))\n",
    "        print(\"Testing on %s test-data\" %(name))\n",
    "        result = test(nn, test_data, verbose=verbose)\n",
    "        print(\"Accuracy: %f\"%(result))\n",
    "        print(\"Finite Difference Check:\", finite_difference(nn))\n",
    "        print(\"Decision Boundary on Training Data:\")\n",
    "        plot_decision_boundary(nn, -PLOT_SIZE, PLOT_SIZE, -PLOT_SIZE, PLOT_SIZE, training_data)\n",
    "        print(\"Decision Boundary on Test Data:\")\n",
    "        plot_decision_boundary(nn, -PLOT_SIZE, PLOT_SIZE, -PLOT_SIZE, PLOT_SIZE, test_data)"
   ]
  },
  {
   "cell_type": "code",
   "execution_count": 28,
   "metadata": {},
   "outputs": [
    {
     "name": "stdout",
     "output_type": "stream",
     "text": [
      "----------------------------------------\n",
      "Training on OR data\n",
      "weights: [w1A(-2.90), w2A(-2.88), wA(-1.67), w1B(4.72), w2B(4.75), wB(2.86), wAC(-4.91), wBC(8.00), wC(1.75)]\n",
      "Trained weights:\n",
      "Weight 'w1A': -2.904916\n",
      "Weight 'w2A': -2.879784\n",
      "Weight 'wA': -1.670792\n",
      "Weight 'w1B': 4.721640\n",
      "Weight 'w2B': 4.745236\n",
      "Weight 'wB': 2.861249\n",
      "Weight 'wAC': -4.914305\n",
      "Weight 'wBC': 8.000898\n",
      "Weight 'wC': 1.754833\n",
      "Testing on OR test-data\n",
      "Accuracy: 1.000000\n",
      "Finite Difference Check: True\n",
      "Decision Boundary on Training Data:\n"
     ]
    },
    {
     "data": {
      "image/png": "[encoded data removed]",
      "text/plain": [
       "<Figure size 432x288 with 1 Axes>"
      ]
     },
     "metadata": {
      "needs_background": "light"
     },
     "output_type": "display_data"
    },
    {
     "name": "stdout",
     "output_type": "stream",
     "text": [
      "Decision Boundary on Test Data:\n"
     ]
    },
    {
     "data": {
      "image/png": "[encoded data removed]",
      "text/plain": [
       "<Figure size 432x288 with 1 Axes>"
      ]
     },
     "metadata": {
      "needs_background": "light"
     },
     "output_type": "display_data"
    },
    {
     "name": "stdout",
     "output_type": "stream",
     "text": [
      "----------------------------------------\n",
      "Training on AND data\n",
      "weights: [w1A(-3.08), w2A(-3.02), wA(-3.96), w1B(3.75), w2B(3.80), wB(5.00), wAC(-6.43), wBC(7.93), wC(1.24)]\n",
      "Trained weights:\n",
      "Weight 'w1A': -3.078848\n",
      "Weight 'w2A': -3.015028\n",
      "Weight 'wA': -3.962159\n",
      "Weight 'w1B': 3.747336\n",
      "Weight 'w2B': 3.804627\n",
      "Weight 'wB': 5.004915\n",
      "Weight 'wAC': -6.430871\n",
      "Weight 'wBC': 7.933264\n",
      "Weight 'wC': 1.235360\n",
      "Testing on AND test-data\n",
      "Accuracy: 1.000000\n",
      "Finite Difference Check: True\n",
      "Decision Boundary on Training Data:\n"
     ]
    },
    {
     "data": {
      "image/png": "[encoded data removed]",
      "text/plain": [
       "<Figure size 432x288 with 1 Axes>"
      ]
     },
     "metadata": {
      "needs_background": "light"
     },
     "output_type": "display_data"
    },
    {
     "name": "stdout",
     "output_type": "stream",
     "text": [
      "Decision Boundary on Test Data:\n"
     ]
    },
    {
     "data": {
      "image/png": "[encoded data removed]",
      "text/plain": [
       "<Figure size 432x288 with 1 Axes>"
      ]
     },
     "metadata": {
      "needs_background": "light"
     },
     "output_type": "display_data"
    },
    {
     "name": "stdout",
     "output_type": "stream",
     "text": [
      "----------------------------------------\n",
      "Training on EQUAL data\n",
      "weights: [w1A(-6.71), w2A(-6.54), wA(-2.73), w1B(-4.93), w2B(-4.90), wB(-7.32), wAC(10.32), wBC(-10.19), wC(-4.85)]\n",
      "Trained weights:\n",
      "Weight 'w1A': -6.714234\n",
      "Weight 'w2A': -6.543802\n",
      "Weight 'wA': -2.729777\n",
      "Weight 'w1B': -4.933870\n",
      "Weight 'w2B': -4.901881\n",
      "Weight 'wB': -7.323522\n",
      "Weight 'wAC': 10.318571\n",
      "Weight 'wBC': -10.191227\n",
      "Weight 'wC': -4.846239\n",
      "Testing on EQUAL test-data\n",
      "Accuracy: 1.000000\n",
      "Finite Difference Check: True\n",
      "Decision Boundary on Training Data:\n"
     ]
    },
    {
     "data": {
      "image/png": "[encoded data removed]",
      "text/plain": [
       "<Figure size 432x288 with 1 Axes>"
      ]
     },
     "metadata": {
      "needs_background": "light"
     },
     "output_type": "display_data"
    },
    {
     "name": "stdout",
     "output_type": "stream",
     "text": [
      "Decision Boundary on Test Data:\n"
     ]
    },
    {
     "data": {
      "image/png": "[encoded data removed]",
      "text/plain": [
       "<Figure size 432x288 with 1 Axes>"
      ]
     },
     "metadata": {
      "needs_background": "light"
     },
     "output_type": "display_data"
    },
    {
     "name": "stdout",
     "output_type": "stream",
     "text": [
      "----------------------------------------\n",
      "Training on NOT_EQUAL data\n",
      "weights: [w1A(-6.71), w2A(-6.54), wA(-2.73), w1B(-4.93), w2B(-4.90), wB(-7.32), wAC(-10.32), wBC(10.19), wC(4.85)]\n",
      "Trained weights:\n",
      "Weight 'w1A': -6.714234\n",
      "Weight 'w2A': -6.543802\n",
      "Weight 'wA': -2.729777\n",
      "Weight 'w1B': -4.933870\n",
      "Weight 'w2B': -4.901881\n",
      "Weight 'wB': -7.323522\n",
      "Weight 'wAC': -10.318571\n",
      "Weight 'wBC': 10.191227\n",
      "Weight 'wC': 4.846239\n",
      "Testing on NOT_EQUAL test-data\n",
      "Accuracy: 1.000000\n",
      "Finite Difference Check: True\n",
      "Decision Boundary on Training Data:\n"
     ]
    },
    {
     "data": {
      "image/png": "[encoded data removed]",
      "text/plain": [
       "<Figure size 432x288 with 1 Axes>"
      ]
     },
     "metadata": {
      "needs_background": "light"
     },
     "output_type": "display_data"
    },
    {
     "name": "stdout",
     "output_type": "stream",
     "text": [
      "Decision Boundary on Test Data:\n"
     ]
    },
    {
     "data": {
      "image/png": "[encoded data removed]",
      "text/plain": [
       "<Figure size 432x288 with 1 Axes>"
      ]
     },
     "metadata": {
      "needs_background": "light"
     },
     "output_type": "display_data"
    },
    {
     "name": "stdout",
     "output_type": "stream",
     "text": [
      "----------------------------------------\n",
      "Training on horizontal-bands data\n",
      "weights: [w1A(0.09), w2A(-4.82), wA(-11.74), w1B(-0.23), w2B(7.34), wB(3.60), wAC(9.91), wBC(9.47), wC(14.31)]\n",
      "Trained weights:\n",
      "Weight 'w1A': 0.088970\n",
      "Weight 'w2A': -4.818180\n",
      "Weight 'wA': -11.736355\n",
      "Weight 'w1B': -0.230610\n",
      "Weight 'w2B': 7.342591\n",
      "Weight 'wB': 3.604769\n",
      "Weight 'wAC': 9.912564\n",
      "Weight 'wBC': 9.474189\n",
      "Weight 'wC': 14.312040\n",
      "Testing on horizontal-bands test-data\n",
      "Accuracy: 1.000000\n",
      "Finite Difference Check: True\n",
      "Decision Boundary on Training Data:\n"
     ]
    },
    {
     "data": {
      "image/png": "[encoded data removed]",
      "text/plain": [
       "<Figure size 432x288 with 1 Axes>"
      ]
     },
     "metadata": {
      "needs_background": "light"
     },
     "output_type": "display_data"
    },
    {
     "name": "stdout",
     "output_type": "stream",
     "text": [
      "Decision Boundary on Test Data:\n"
     ]
    },
    {
     "data": {
      "image/png": "[encoded data removed]",
      "text/plain": [
       "<Figure size 432x288 with 1 Axes>"
      ]
     },
     "metadata": {
      "needs_background": "light"
     },
     "output_type": "display_data"
    },
    {
     "name": "stdout",
     "output_type": "stream",
     "text": [
      "----------------------------------------\n",
      "Training on vertical-bands data\n",
      "weights: [w1A(-4.18), w2A(0.07), wA(-10.14), w1B(-6.12), w2B(0.21), wB(-2.91), wAC(10.46), wBC(-10.21), wC(5.04)]\n",
      "Trained weights:\n",
      "Weight 'w1A': -4.179059\n",
      "Weight 'w2A': 0.073090\n",
      "Weight 'wA': -10.140434\n",
      "Weight 'w1B': -6.116850\n",
      "Weight 'w2B': 0.209211\n",
      "Weight 'wB': -2.907297\n",
      "Weight 'wAC': 10.460442\n",
      "Weight 'wBC': -10.214859\n",
      "Weight 'wC': 5.042128\n",
      "Testing on vertical-bands test-data\n",
      "Accuracy: 1.000000\n",
      "Finite Difference Check: True\n",
      "Decision Boundary on Training Data:\n"
     ]
    },
    {
     "data": {
      "image/png": "[encoded data removed]",
      "text/plain": [
       "<Figure size 432x288 with 1 Axes>"
      ]
     },
     "metadata": {
      "needs_background": "light"
     },
     "output_type": "display_data"
    },
    {
     "name": "stdout",
     "output_type": "stream",
     "text": [
      "Decision Boundary on Test Data:\n"
     ]
    },
    {
     "data": {
      "image/png": "[encoded data removed]",
      "text/plain": [
       "<Figure size 432x288 with 1 Axes>"
      ]
     },
     "metadata": {
      "needs_background": "light"
     },
     "output_type": "display_data"
    },
    {
     "name": "stdout",
     "output_type": "stream",
     "text": [
      "----------------------------------------\n",
      "Training on diagonal-band data\n",
      "weights: [w1A(4.34), w2A(-3.91), wA(-3.34), w1B(3.48), w2B(-3.69), wB(3.50), wAC(8.76), wBC(-9.08), wC(4.36)]\n",
      "Trained weights:\n",
      "Weight 'w1A': 4.336851\n",
      "Weight 'w2A': -3.905844\n",
      "Weight 'wA': -3.336243\n",
      "Weight 'w1B': 3.484567\n",
      "Weight 'w2B': -3.687835\n",
      "Weight 'wB': 3.495438\n",
      "Weight 'wAC': 8.755707\n",
      "Weight 'wBC': -9.075091\n",
      "Weight 'wC': 4.364637\n",
      "Testing on diagonal-band test-data\n",
      "Accuracy: 1.000000\n",
      "Finite Difference Check: True\n",
      "Decision Boundary on Training Data:\n"
     ]
    },
    {
     "data": {
      "image/png": "[encoded data removed]",
      "text/plain": [
       "<Figure size 432x288 with 1 Axes>"
      ]
     },
     "metadata": {
      "needs_background": "light"
     },
     "output_type": "display_data"
    },
    {
     "name": "stdout",
     "output_type": "stream",
     "text": [
      "Decision Boundary on Test Data:\n"
     ]
    },
    {
     "data": {
      "image/png": "[encoded data removed]",
      "text/plain": [
       "<Figure size 432x288 with 1 Axes>"
      ]
     },
     "metadata": {
      "needs_background": "light"
     },
     "output_type": "display_data"
    },
    {
     "name": "stdout",
     "output_type": "stream",
     "text": [
      "----------------------------------------\n",
      "Training on inverse-diagonal-band data\n",
      "weights: [w1A(4.34), w2A(-3.91), wA(-3.34), w1B(3.48), w2B(-3.69), wB(3.50), wAC(-8.76), wBC(9.08), wC(-4.36)]\n",
      "Trained weights:\n",
      "Weight 'w1A': 4.336851\n",
      "Weight 'w2A': -3.905844\n",
      "Weight 'wA': -3.336243\n",
      "Weight 'w1B': 3.484567\n",
      "Weight 'w2B': -3.687835\n",
      "Weight 'wB': 3.495438\n",
      "Weight 'wAC': -8.755707\n",
      "Weight 'wBC': 9.075091\n",
      "Weight 'wC': -4.364637\n",
      "Testing on inverse-diagonal-band test-data\n",
      "Accuracy: 1.000000\n",
      "Finite Difference Check: True\n",
      "Decision Boundary on Training Data:\n"
     ]
    },
    {
     "data": {
      "image/png": "[encoded data removed]",
      "text/plain": [
       "<Figure size 432x288 with 1 Axes>"
      ]
     },
     "metadata": {
      "needs_background": "light"
     },
     "output_type": "display_data"
    },
    {
     "name": "stdout",
     "output_type": "stream",
     "text": [
      "Decision Boundary on Test Data:\n"
     ]
    },
    {
     "data": {
      "image/png": "[encoded data removed]",
      "text/plain": [
       "<Figure size 432x288 with 1 Axes>"
      ]
     },
     "metadata": {
      "needs_background": "light"
     },
     "output_type": "display_data"
    }
   ],
   "source": [
    "main(make_neural_net_two_layer, simple_data_sets + harder_data_sets)"
   ]
  },
  {
   "cell_type": "markdown",
   "metadata": {},
   "source": [
    "## Overfitting"
   ]
  },
  {
   "cell_type": "markdown",
   "metadata": {},
   "source": [
    "Overfitting occurs when our neural network is so closely fitted to the training set that it is difficult to generalize and make predictions for new data. To solve this problem there are method like regularization, using more data, remove some features, etc. In this project L2-norm method is implemented which is a regularization algorithm."
   ]
  },
  {
   "cell_type": "markdown",
   "metadata": {},
   "source": [
    "### Implement Two Moon Neural Network"
   ]
  },
  {
   "cell_type": "markdown",
   "metadata": {},
   "source": [
    "Following shows implementation of two moon network:"
   ]
  },
  {
   "cell_type": "code",
   "execution_count": 29,
   "metadata": {},
   "outputs": [],
   "source": [
    "def make_neural_net_two_moons():\n",
    "    \"\"\"\n",
    "    Create an overparametrized network with 40 neurons in the first layer\n",
    "    and a single neuron in the last. This network is more than enough to solve\n",
    "    the two-moons dataset, and as a result will over-fit the data if trained\n",
    "    excessively.\n",
    "\n",
    "    See 'make_neural_net_basic' for required naming convention for inputs,\n",
    "    weights, and neurons.\n",
    "    \"\"\"\n",
    "    seed_random()\n",
    "\n",
    "    i0 = Input('i0', -1.0)\n",
    "    i1 = Input('i1', 0.0)\n",
    "    i2 = Input('i2', 0.0)\n",
    "    \n",
    "    nerun_indexes = [\"%02d\" % x for x in range(1, 41)]\n",
    "    \n",
    "    neurons = []\n",
    "    wACs = []\n",
    "    \n",
    "    for neuron_index in nerun_indexes:\n",
    "        w1A = Weight(\"w1A\" + neuron_index, random_weight())\n",
    "        w2A = Weight(\"w2A\" + neuron_index, random_weight())\n",
    "        wA = Weight(\"wA\" + neuron_index, random_weight())\n",
    "        neurons.append(Neuron('A' + neuron_index, [i1, i2, i0], [w1A, w2A, wA]))\n",
    "        wACs.append(Weight('wA' + neuron_index + 'C', random_weight()))\n",
    "    \n",
    "    wC = Weight('wC', random_weight())\n",
    "    C = Neuron('C', neurons + [i0], wACs + [wC])\n",
    "    \n",
    "    P = PerformanceElem(C, 0.0)\n",
    "    net = Network(P, neurons + [C])\n",
    "\n",
    "    return net"
   ]
  },
  {
   "cell_type": "markdown",
   "metadata": {},
   "source": [
    "### Analysis Overfitting on Two Moon Network"
   ]
  },
  {
   "cell_type": "markdown",
   "metadata": {},
   "source": [
    "We analyze two moon network to study effect of overfitting by setting number of iterations to 100, 500, 1000 respectively. Following changes are necessary to test main function with finite difference."
   ]
  },
  {
   "cell_type": "code",
   "execution_count": 30,
   "metadata": {},
   "outputs": [],
   "source": [
    "def main(neural_net_func, data_sets, rate=1.0, max_iterations=10000):\n",
    "    verbose = False\n",
    "    for name, training_data, test_data in data_sets:\n",
    "        print(\"-\"*40)\n",
    "        print(\"Training on %s data\" %(name))\n",
    "        nn = neural_net_func()\n",
    "        train(nn, training_data, rate=rate, max_iterations=max_iterations,\n",
    "              verbose=verbose)\n",
    "        print(\"Trained weights:\")\n",
    "        for w in nn.weights:\n",
    "            print(\"Weight '%s': %f\"%(w.get_name(),w.get_value()))  \n",
    "        print(\"Finite Difference Check:\", finite_difference(nn))\n",
    "        print(\"Decision Boundary on Training Data:\")\n",
    "        plot_decision_boundary(nn, -PLOT_SIZE, PLOT_SIZE, -PLOT_SIZE, PLOT_SIZE, training_data)\n",
    "        print(\"Decision Boundary on Test Data:\")\n",
    "        plot_decision_boundary(nn, -PLOT_SIZE, PLOT_SIZE, -PLOT_SIZE, PLOT_SIZE, test_data)\n",
    "        test_result = test(nn, test_data, verbose=verbose)\n",
    "        print(\"Test Data Accuracy: %f\"%(test_result))\n",
    "        train_result = test(nn, training_data, verbose=verbose)\n",
    "        print(\"Train Data Accuracy: %f\"%(train_result))"
   ]
  },
  {
   "cell_type": "markdown",
   "metadata": {},
   "source": [
    "#### Max Iteration = 100:"
   ]
  },
  {
   "cell_type": "code",
   "execution_count": 31,
   "metadata": {},
   "outputs": [
    {
     "name": "stdout",
     "output_type": "stream",
     "text": [
      "----------------------------------------\n",
      "Training on two-moons data\n",
      "weights: [w1A01(-0.03), w2A01(-0.25), wA01(-0.25), w1A02(0.78), w2A02(-0.36), wA02(0.58), w1A03(-0.56), w2A03(0.64), wA03(1.20), w1A04(0.85), w2A04(-0.79), wA04(0.56), w1A05(-0.99), w2A05(0.49), wA05(0.47), w1A06(1.22), w2A06(0.92), wA06(-0.65), w1A07(-1.29), w2A07(0.33), wA07(-0.44), w1A08(-0.56), w2A08(0.64), wA08(1.20), w1A09(0.77), w2A09(-0.97), wA09(0.58), w1A10(1.23), w2A10(-1.45), wA10(1.42), w1A11(-0.68), w2A11(1.59), wA11(0.67), w1A12(0.75), w2A12(-1.72), wA12(-0.06), w1A13(0.24), w2A13(0.31), wA13(1.40), w1A14(-0.77), w2A14(1.18), wA14(0.50), w1A15(-0.99), w2A15(0.49), wA15(0.47), w1A16(-3.95), w2A16(-1.57), wA16(2.19), w1A17(-1.29), w2A17(-1.12), wA17(1.28), w1A18(-2.41), w2A18(-2.17), wA18(-0.98), w1A19(0.97), w2A19(-1.81), wA19(0.81), w1A20(0.80), w2A20(0.61), wA20(-0.63), w1A21(0.80), w2A21(0.61), wA21(-0.63), w1A22(0.93), w2A22(0.97), wA22(0.78), w1A23(-0.77), w2A23(1.18), wA23(0.50), w1A24(0.85), w2A24(-0.79), wA24(0.56), w1A25(-6.94), w2A25(-2.02), wA25(-3.24), w1A26(1.56), w2A26(0.73), wA26(0.75), w1A27(-1.18), w2A27(1.90), wA27(-1.05), w1A28(0.46), w2A28(-1.19), wA28(0.93), w1A29(1.26), w2A29(-1.15), wA29(1.51), w1A30(-0.92), w2A30(1.50), wA30(-0.44), w1A31(1.55), w2A31(0.75), wA31(-0.86), w1A32(0.77), w2A32(-0.97), wA32(0.58), w1A33(3.30), w2A33(2.21), wA33(1.55), w1A34(-0.54), w2A34(0.94), wA34(-0.20), w1A35(3.30), w2A35(2.21), wA35(1.55), w1A36(-1.29), w2A36(-1.12), wA36(1.28), w1A37(-0.96), w2A37(1.23), wA37(-0.53), w1A38(-0.96), w2A38(0.64), wA38(0.86), w1A39(-3.95), w2A39(-1.57), wA39(2.19), w1A40(-0.74), w2A40(0.65), wA40(1.39), wA01C(0.08), wA02C(0.58), wA03C(-1.13), wA04C(0.36), wA05C(-0.14), wA06C(0.64), wA07C(-0.00), wA08C(-1.13), wA09C(1.35), wA10C(1.44), wA11C(-1.74), wA12C(1.86), wA13C(0.42), wA14C(-1.06), wA15C(-0.14), wA16C(-3.50), wA17C(-0.71), wA18C(1.96), wA19C(1.97), wA20C(0.89), wA21C(0.89), wA22C(-0.24), wA23C(-1.06), wA24C(0.36), wA25C(6.96), wA26C(-0.71), wA27C(-2.15), wA28C(1.02), wA29C(1.79), wA30C(-1.78), wA31C(1.19), wA32C(1.35), wA33C(-2.64), wA34C(-0.68), wA35C(-2.64), wA36C(-0.71), wA37C(-1.15), wA38C(-1.35), wA39C(-3.50), wA40C(-0.06), wC(0.89)]\n",
      "Trained weights:\n",
      "Weight 'w1A01': -0.034291\n",
      "Weight 'w2A01': -0.246525\n",
      "Weight 'wA01': -0.249333\n",
      "Weight 'w1A02': 0.776309\n",
      "Weight 'w2A02': -0.362811\n",
      "Weight 'wA02': 0.577469\n",
      "Weight 'w1A03': -0.563614\n",
      "Weight 'w2A03': 0.637537\n",
      "Weight 'wA03': 1.195745\n",
      "Weight 'w1A04': 0.854739\n",
      "Weight 'w2A04': -0.790126\n",
      "Weight 'wA04': 0.557344\n",
      "Weight 'w1A05': -0.990332\n",
      "Weight 'w2A05': 0.494072\n",
      "Weight 'wA05': 0.469741\n",
      "Weight 'w1A06': 1.218491\n",
      "Weight 'w2A06': 0.922028\n",
      "Weight 'wA06': -0.651767\n",
      "Weight 'w1A07': -1.290999\n",
      "Weight 'w2A07': 0.327101\n",
      "Weight 'wA07': -0.442790\n",
      "Weight 'w1A08': -0.563614\n",
      "Weight 'w2A08': 0.637537\n",
      "Weight 'wA08': 1.195745\n",
      "Weight 'w1A09': 0.771045\n",
      "Weight 'w2A09': -0.973314\n",
      "Weight 'wA09': 0.584307\n",
      "Weight 'w1A10': 1.234770\n",
      "Weight 'w2A10': -1.448834\n",
      "Weight 'wA10': 1.419861\n",
      "Weight 'w1A11': -0.684239\n",
      "Weight 'w2A11': 1.587082\n",
      "Weight 'wA11': 0.669662\n",
      "Weight 'w1A12': 0.745464\n",
      "Weight 'w2A12': -1.716735\n",
      "Weight 'wA12': -0.058663\n",
      "Weight 'w1A13': 0.242967\n",
      "Weight 'w2A13': 0.308856\n",
      "Weight 'wA13': 1.396450\n",
      "Weight 'w1A14': -0.772579\n",
      "Weight 'w2A14': 1.177432\n",
      "Weight 'wA14': 0.504081\n",
      "Weight 'w1A15': -0.990332\n",
      "Weight 'w2A15': 0.494072\n",
      "Weight 'wA15': 0.469741\n",
      "Weight 'w1A16': -3.952892\n",
      "Weight 'w2A16': -1.565920\n",
      "Weight 'wA16': 2.185580\n",
      "Weight 'w1A17': -1.294250\n",
      "Weight 'w2A17': -1.116576\n",
      "Weight 'wA17': 1.277797\n",
      "Weight 'w1A18': -2.409107\n",
      "Weight 'w2A18': -2.171182\n",
      "Weight 'wA18': -0.984095\n",
      "Weight 'w1A19': 0.973603\n",
      "Weight 'w2A19': -1.809550\n",
      "Weight 'wA19': 0.811747\n",
      "Weight 'w1A20': 0.800692\n",
      "Weight 'w2A20': 0.609709\n",
      "Weight 'wA20': -0.633192\n",
      "Weight 'w1A21': 0.800692\n",
      "Weight 'w2A21': 0.609709\n",
      "Weight 'wA21': -0.633192\n",
      "Weight 'w1A22': 0.932876\n",
      "Weight 'w2A22': 0.973444\n",
      "Weight 'wA22': 0.779739\n",
      "Weight 'w1A23': -0.772579\n",
      "Weight 'w2A23': 1.177432\n",
      "Weight 'wA23': 0.504081\n",
      "Weight 'w1A24': 0.854739\n",
      "Weight 'w2A24': -0.790126\n",
      "Weight 'wA24': 0.557344\n",
      "Weight 'w1A25': -6.939802\n",
      "Weight 'w2A25': -2.017719\n",
      "Weight 'wA25': -3.240084\n",
      "Weight 'w1A26': 1.564233\n",
      "Weight 'w2A26': 0.728747\n",
      "Weight 'wA26': 0.746392\n",
      "Weight 'w1A27': -1.183103\n",
      "Weight 'w2A27': 1.903751\n",
      "Weight 'wA27': -1.051519\n",
      "Weight 'w1A28': 0.456929\n",
      "Weight 'w2A28': -1.192553\n",
      "Weight 'wA28': 0.929340\n",
      "Weight 'w1A29': 1.256642\n",
      "Weight 'w2A29': -1.145647\n",
      "Weight 'wA29': 1.505227\n",
      "Weight 'w1A30': -0.921441\n",
      "Weight 'w2A30': 1.502089\n",
      "Weight 'wA30': -0.436078\n",
      "Weight 'w1A31': 1.549952\n",
      "Weight 'w2A31': 0.747910\n",
      "Weight 'wA31': -0.862352\n",
      "Weight 'w1A32': 0.771045\n",
      "Weight 'w2A32': -0.973314\n",
      "Weight 'wA32': 0.584307\n",
      "Weight 'w1A33': 3.302157\n",
      "Weight 'w2A33': 2.212397\n",
      "Weight 'wA33': 1.554338\n",
      "Weight 'w1A34': -0.540214\n",
      "Weight 'w2A34': 0.942578\n",
      "Weight 'wA34': -0.197691\n",
      "Weight 'w1A35': 3.302157\n",
      "Weight 'w2A35': 2.212397\n",
      "Weight 'wA35': 1.554338\n",
      "Weight 'w1A36': -1.294250\n",
      "Weight 'w2A36': -1.116576\n",
      "Weight 'wA36': 1.277797\n",
      "Weight 'w1A37': -0.956858\n",
      "Weight 'w2A37': 1.225553\n",
      "Weight 'wA37': -0.527210\n",
      "Weight 'w1A38': -0.961038\n",
      "Weight 'w2A38': 0.636924\n",
      "Weight 'wA38': 0.855040\n",
      "Weight 'w1A39': -3.952892\n",
      "Weight 'w2A39': -1.565920\n",
      "Weight 'wA39': 2.185580\n",
      "Weight 'w1A40': -0.742861\n",
      "Weight 'w2A40': 0.652732\n",
      "Weight 'wA40': 1.393004\n",
      "Weight 'wA01C': 0.077214\n",
      "Weight 'wA02C': 0.580286\n",
      "Weight 'wA03C': -1.129398\n",
      "Weight 'wA04C': 0.359516\n",
      "Weight 'wA05C': -0.137054\n",
      "Weight 'wA06C': 0.636241\n",
      "Weight 'wA07C': -0.000664\n",
      "Weight 'wA08C': -1.129398\n",
      "Weight 'wA09C': 1.353005\n",
      "Weight 'wA10C': 1.442116\n",
      "Weight 'wA11C': -1.740190\n",
      "Weight 'wA12C': 1.855949\n",
      "Weight 'wA13C': 0.423878\n",
      "Weight 'wA14C': -1.058877\n",
      "Weight 'wA15C': -0.137054\n",
      "Weight 'wA16C': -3.495869\n",
      "Weight 'wA17C': -0.713895\n",
      "Weight 'wA18C': 1.960785\n",
      "Weight 'wA19C': 1.969386\n",
      "Weight 'wA20C': 0.893848\n",
      "Weight 'wA21C': 0.893848\n",
      "Weight 'wA22C': -0.242324\n",
      "Weight 'wA23C': -1.058877\n",
      "Weight 'wA24C': 0.359516\n",
      "Weight 'wA25C': 6.962110\n",
      "Weight 'wA26C': -0.712560\n",
      "Weight 'wA27C': -2.150785\n",
      "Weight 'wA28C': 1.022617\n",
      "Weight 'wA29C': 1.787562\n",
      "Weight 'wA30C': -1.783559\n",
      "Weight 'wA31C': 1.188686\n",
      "Weight 'wA32C': 1.353005\n",
      "Weight 'wA33C': -2.642402\n",
      "Weight 'wA34C': -0.683571\n",
      "Weight 'wA35C': -2.642402\n",
      "Weight 'wA36C': -0.713895\n",
      "Weight 'wA37C': -1.148206\n",
      "Weight 'wA38C': -1.348244\n",
      "Weight 'wA39C': -3.495869\n",
      "Weight 'wA40C': -0.056431\n",
      "Weight 'wC': 0.890116\n",
      "Finite Difference Check: True\n",
      "Decision Boundary on Training Data:\n"
     ]
    },
    {
     "data": {
      "image/png": "[encoded data removed]",
      "text/plain": [
       "<Figure size 432x288 with 1 Axes>"
      ]
     },
     "metadata": {
      "needs_background": "light"
     },
     "output_type": "display_data"
    },
    {
     "name": "stdout",
     "output_type": "stream",
     "text": [
      "Decision Boundary on Test Data:\n"
     ]
    },
    {
     "data": {
      "image/png": "[encoded data removed]",
      "text/plain": [
       "<Figure size 432x288 with 1 Axes>"
      ]
     },
     "metadata": {
      "needs_background": "light"
     },
     "output_type": "display_data"
    },
    {
     "name": "stdout",
     "output_type": "stream",
     "text": [
      "Test Data Accuracy: 0.980000\n",
      "Train Data Accuracy: 0.926829\n"
     ]
    }
   ],
   "source": [
    "main(make_neural_net_two_moons, two_moons_data_set, max_iterations=100)"
   ]
  },
  {
   "cell_type": "markdown",
   "metadata": {},
   "source": [
    "#### Max Iteration = 500:"
   ]
  },
  {
   "cell_type": "code",
   "execution_count": 32,
   "metadata": {},
   "outputs": [
    {
     "name": "stdout",
     "output_type": "stream",
     "text": [
      "----------------------------------------\n",
      "Training on two-moons data\n",
      "weights: [w1A01(0.27), w2A01(-0.80), wA01(0.33), w1A02(1.08), w2A02(-0.91), wA02(0.71), w1A03(-0.67), w2A03(0.89), wA03(1.78), w1A04(1.10), w2A04(-1.12), wA04(0.60), w1A05(-0.85), w2A05(0.12), wA05(1.24), w1A06(1.37), w2A06(0.21), wA06(-0.14), w1A07(-1.02), w2A07(-0.30), wA07(0.63), w1A08(-0.67), w2A08(0.89), wA08(1.78), w1A09(1.26), w2A09(-1.44), wA09(0.59), w1A10(1.80), w2A10(-1.72), wA10(1.54), w1A11(-0.77), w2A11(1.84), wA11(1.85), w1A12(1.17), w2A12(-1.92), wA12(-0.11), w1A13(0.57), w2A13(-0.06), wA13(1.54), w1A14(-0.79), w2A14(1.20), wA14(1.50), w1A15(-0.85), w2A15(0.12), wA15(1.24), w1A16(-8.08), w2A16(-3.24), wA16(3.75), w1A17(-1.70), w2A17(-1.45), wA17(1.63), w1A18(-5.47), w2A18(-5.77), wA18(-3.12), w1A19(1.54), w2A19(-1.90), wA19(0.91), w1A20(1.04), w2A20(-0.34), wA20(-0.01), w1A21(1.04), w2A21(-0.34), wA21(-0.01), w1A22(0.95), w2A22(0.90), wA22(1.31), w1A23(-0.79), w2A23(1.20), wA23(1.50), w1A24(1.10), w2A24(-1.12), wA24(0.60), w1A25(-7.99), w2A25(-2.26), wA25(-3.99), w1A26(2.10), w2A26(1.28), wA26(1.20), w1A27(-1.56), w2A27(1.81), wA27(-0.89), w1A28(1.23), w2A28(-1.42), wA28(0.71), w1A29(1.87), w2A29(-1.57), wA29(1.70), w1A30(-1.04), w2A30(1.42), wA30(0.50), w1A31(1.86), w2A31(0.30), wA31(-0.93), w1A32(1.26), w2A32(-1.44), wA32(0.59), w1A33(6.54), w2A33(7.43), wA33(3.89), w1A34(-0.71), w2A34(0.71), wA34(0.92), w1A35(6.54), w2A35(7.43), wA35(3.89), w1A36(-1.70), w2A36(-1.45), wA36(1.63), w1A37(-0.98), w2A37(1.10), wA37(0.50), w1A38(-0.95), w2A38(0.85), wA38(1.63), w1A39(-8.08), w2A39(-3.24), wA39(3.75), w1A40(-0.69), w2A40(0.48), wA40(1.80), wA01C(0.54), wA02C(1.42), wA03C(-1.07), wA04C(1.41), wA05C(-0.41), wA06C(0.72), wA07C(-0.25), wA08C(-1.07), wA09C(2.36), wA10C(2.76), wA11C(-1.85), wA12C(2.84), wA13C(0.58), wA14C(-1.26), wA15C(-0.41), wA16C(-6.83), wA17C(-1.00), wA18C(5.83), wA19C(3.16), wA20C(0.97), wA21C(0.97), wA22C(-0.20), wA23C(-1.26), wA24C(1.41), wA25C(9.60), wA26C(-0.82), wA27C(-2.93), wA28C(2.03), wA29C(3.07), wA30C(-2.25), wA31C(1.26), wA32C(2.36), wA33C(-7.50), wA34C(-0.92), wA35C(-7.50), wA36C(-1.00), wA37C(-1.63), wA38C(-1.20), wA39C(-6.83), wA40C(-0.41), wC(0.40)]\n",
      "Trained weights:\n",
      "Weight 'w1A01': 0.266942\n",
      "Weight 'w2A01': -0.797264\n",
      "Weight 'wA01': 0.325474\n",
      "Weight 'w1A02': 1.084194\n",
      "Weight 'w2A02': -0.906942\n",
      "Weight 'wA02': 0.713777\n",
      "Weight 'w1A03': -0.668122\n",
      "Weight 'w2A03': 0.889140\n",
      "Weight 'wA03': 1.778074\n",
      "Weight 'w1A04': 1.095005\n",
      "Weight 'w2A04': -1.124158\n",
      "Weight 'wA04': 0.598984\n",
      "Weight 'w1A05': -0.845756\n",
      "Weight 'w2A05': 0.121210\n",
      "Weight 'wA05': 1.237799\n",
      "Weight 'w1A06': 1.367059\n",
      "Weight 'w2A06': 0.214299\n",
      "Weight 'wA06': -0.144592\n",
      "Weight 'w1A07': -1.015201\n",
      "Weight 'w2A07': -0.301167\n",
      "Weight 'wA07': 0.629506\n",
      "Weight 'w1A08': -0.668122\n",
      "Weight 'w2A08': 0.889140\n",
      "Weight 'wA08': 1.778074\n",
      "Weight 'w1A09': 1.259237\n",
      "Weight 'w2A09': -1.435927\n",
      "Weight 'wA09': 0.594603\n",
      "Weight 'w1A10': 1.802350\n",
      "Weight 'w2A10': -1.715798\n",
      "Weight 'wA10': 1.542480\n",
      "Weight 'w1A11': -0.774802\n",
      "Weight 'w2A11': 1.842629\n",
      "Weight 'wA11': 1.852956\n",
      "Weight 'w1A12': 1.171237\n",
      "Weight 'w2A12': -1.918364\n",
      "Weight 'wA12': -0.111232\n",
      "Weight 'w1A13': 0.570833\n",
      "Weight 'w2A13': -0.059178\n",
      "Weight 'wA13': 1.542423\n",
      "Weight 'w1A14': -0.791677\n",
      "Weight 'w2A14': 1.199875\n",
      "Weight 'wA14': 1.504218\n",
      "Weight 'w1A15': -0.845756\n",
      "Weight 'w2A15': 0.121210\n",
      "Weight 'wA15': 1.237799\n",
      "Weight 'w1A16': -8.079817\n",
      "Weight 'w2A16': -3.236083\n",
      "Weight 'wA16': 3.748841\n",
      "Weight 'w1A17': -1.702046\n",
      "Weight 'w2A17': -1.452064\n",
      "Weight 'wA17': 1.634279\n",
      "Weight 'w1A18': -5.472982\n",
      "Weight 'w2A18': -5.765184\n",
      "Weight 'wA18': -3.119930\n",
      "Weight 'w1A19': 1.536096\n",
      "Weight 'w2A19': -1.899679\n",
      "Weight 'wA19': 0.909328\n",
      "Weight 'w1A20': 1.036969\n",
      "Weight 'w2A20': -0.343251\n",
      "Weight 'wA20': -0.007281\n",
      "Weight 'w1A21': 1.036969\n",
      "Weight 'w2A21': -0.343251\n",
      "Weight 'wA21': -0.007281\n",
      "Weight 'w1A22': 0.951974\n",
      "Weight 'w2A22': 0.904659\n",
      "Weight 'wA22': 1.308928\n",
      "Weight 'w1A23': -0.791677\n",
      "Weight 'w2A23': 1.199875\n",
      "Weight 'wA23': 1.504218\n",
      "Weight 'w1A24': 1.095005\n",
      "Weight 'w2A24': -1.124158\n",
      "Weight 'wA24': 0.598984\n",
      "Weight 'w1A25': -7.985361\n",
      "Weight 'w2A25': -2.258263\n",
      "Weight 'wA25': -3.993505\n",
      "Weight 'w1A26': 2.104544\n",
      "Weight 'w2A26': 1.284532\n",
      "Weight 'wA26': 1.203781\n",
      "Weight 'w1A27': -1.564035\n",
      "Weight 'w2A27': 1.811932\n",
      "Weight 'wA27': -0.894144\n",
      "Weight 'w1A28': 1.225644\n",
      "Weight 'w2A28': -1.415442\n",
      "Weight 'wA28': 0.707648\n",
      "Weight 'w1A29': 1.874792\n",
      "Weight 'w2A29': -1.574989\n",
      "Weight 'wA29': 1.703124\n",
      "Weight 'w1A30': -1.037562\n",
      "Weight 'w2A30': 1.415477\n",
      "Weight 'wA30': 0.499384\n",
      "Weight 'w1A31': 1.858354\n",
      "Weight 'w2A31': 0.299815\n",
      "Weight 'wA31': -0.929345\n",
      "Weight 'w1A32': 1.259237\n",
      "Weight 'w2A32': -1.435927\n",
      "Weight 'wA32': 0.594603\n",
      "Weight 'w1A33': 6.535159\n",
      "Weight 'w2A33': 7.426656\n",
      "Weight 'wA33': 3.885368\n",
      "Weight 'w1A34': -0.705342\n",
      "Weight 'w2A34': 0.708072\n",
      "Weight 'wA34': 0.924684\n",
      "Weight 'w1A35': 6.535159\n",
      "Weight 'w2A35': 7.426656\n",
      "Weight 'wA35': 3.885368\n",
      "Weight 'w1A36': -1.702046\n",
      "Weight 'w2A36': -1.452064\n",
      "Weight 'wA36': 1.634279\n",
      "Weight 'w1A37': -0.976693\n",
      "Weight 'w2A37': 1.096645\n",
      "Weight 'wA37': 0.501383\n",
      "Weight 'w1A38': -0.950243\n",
      "Weight 'w2A38': 0.848463\n",
      "Weight 'wA38': 1.632722\n",
      "Weight 'w1A39': -8.079817\n",
      "Weight 'w2A39': -3.236083\n",
      "Weight 'wA39': 3.748841\n",
      "Weight 'w1A40': -0.693048\n",
      "Weight 'w2A40': 0.478824\n",
      "Weight 'wA40': 1.798508\n",
      "Weight 'wA01C': 0.536075\n",
      "Weight 'wA02C': 1.424914\n",
      "Weight 'wA03C': -1.067820\n",
      "Weight 'wA04C': 1.409427\n",
      "Weight 'wA05C': -0.414449\n",
      "Weight 'wA06C': 0.722154\n",
      "Weight 'wA07C': -0.249490\n",
      "Weight 'wA08C': -1.067820\n",
      "Weight 'wA09C': 2.363814\n",
      "Weight 'wA10C': 2.763041\n",
      "Weight 'wA11C': -1.849879\n",
      "Weight 'wA12C': 2.837458\n",
      "Weight 'wA13C': 0.575462\n",
      "Weight 'wA14C': -1.258366\n",
      "Weight 'wA15C': -0.414449\n",
      "Weight 'wA16C': -6.833802\n",
      "Weight 'wA17C': -1.004993\n",
      "Weight 'wA18C': 5.833843\n",
      "Weight 'wA19C': 3.159874\n",
      "Weight 'wA20C': 0.973810\n",
      "Weight 'wA21C': 0.973810\n",
      "Weight 'wA22C': -0.203055\n",
      "Weight 'wA23C': -1.258366\n",
      "Weight 'wA24C': 1.409427\n",
      "Weight 'wA25C': 9.596476\n",
      "Weight 'wA26C': -0.819777\n",
      "Weight 'wA27C': -2.930562\n",
      "Weight 'wA28C': 2.029918\n",
      "Weight 'wA29C': 3.073542\n",
      "Weight 'wA30C': -2.247199\n",
      "Weight 'wA31C': 1.263362\n",
      "Weight 'wA32C': 2.363814\n",
      "Weight 'wA33C': -7.500514\n",
      "Weight 'wA34C': -0.918629\n",
      "Weight 'wA35C': -7.500514\n",
      "Weight 'wA36C': -1.004993\n",
      "Weight 'wA37C': -1.625439\n",
      "Weight 'wA38C': -1.199644\n",
      "Weight 'wA39C': -6.833802\n",
      "Weight 'wA40C': -0.412514\n",
      "Weight 'wC': 0.398632\n",
      "Finite Difference Check: True\n",
      "Decision Boundary on Training Data:\n"
     ]
    },
    {
     "data": {
      "image/png": "[encoded data removed]",
      "text/plain": [
       "<Figure size 432x288 with 1 Axes>"
      ]
     },
     "metadata": {
      "needs_background": "light"
     },
     "output_type": "display_data"
    },
    {
     "name": "stdout",
     "output_type": "stream",
     "text": [
      "Decision Boundary on Test Data:\n"
     ]
    },
    {
     "data": {
      "image/png": "[encoded data removed]",
      "text/plain": [
       "<Figure size 432x288 with 1 Axes>"
      ]
     },
     "metadata": {
      "needs_background": "light"
     },
     "output_type": "display_data"
    },
    {
     "name": "stdout",
     "output_type": "stream",
     "text": [
      "Test Data Accuracy: 0.940000\n",
      "Train Data Accuracy: 0.951220\n"
     ]
    }
   ],
   "source": [
    "main(make_neural_net_two_moons, two_moons_data_set, max_iterations=500)"
   ]
  },
  {
   "cell_type": "markdown",
   "metadata": {},
   "source": [
    "#### Max Iteration = 1000:"
   ]
  },
  {
   "cell_type": "code",
   "execution_count": 33,
   "metadata": {},
   "outputs": [
    {
     "name": "stdout",
     "output_type": "stream",
     "text": [
      "----------------------------------------\n",
      "Training on two-moons data\n",
      "weights: [w1A01(0.27), w2A01(-0.80), wA01(0.33), w1A02(1.08), w2A02(-0.91), wA02(0.71), w1A03(-0.67), w2A03(0.89), wA03(1.78), w1A04(1.10), w2A04(-1.12), wA04(0.60), w1A05(-0.85), w2A05(0.12), wA05(1.24), w1A06(1.37), w2A06(0.21), wA06(-0.14), w1A07(-1.02), w2A07(-0.30), wA07(0.63), w1A08(-0.67), w2A08(0.89), wA08(1.78), w1A09(1.26), w2A09(-1.44), wA09(0.59), w1A10(1.80), w2A10(-1.72), wA10(1.54), w1A11(-0.77), w2A11(1.84), wA11(1.85), w1A12(1.17), w2A12(-1.92), wA12(-0.11), w1A13(0.57), w2A13(-0.06), wA13(1.54), w1A14(-0.79), w2A14(1.20), wA14(1.50), w1A15(-0.85), w2A15(0.12), wA15(1.24), w1A16(-8.08), w2A16(-3.24), wA16(3.75), w1A17(-1.70), w2A17(-1.45), wA17(1.63), w1A18(-5.47), w2A18(-5.77), wA18(-3.12), w1A19(1.54), w2A19(-1.90), wA19(0.91), w1A20(1.04), w2A20(-0.34), wA20(-0.01), w1A21(1.04), w2A21(-0.34), wA21(-0.01), w1A22(0.95), w2A22(0.90), wA22(1.31), w1A23(-0.79), w2A23(1.20), wA23(1.50), w1A24(1.10), w2A24(-1.12), wA24(0.60), w1A25(-7.99), w2A25(-2.26), wA25(-3.99), w1A26(2.10), w2A26(1.28), wA26(1.20), w1A27(-1.56), w2A27(1.81), wA27(-0.89), w1A28(1.23), w2A28(-1.42), wA28(0.71), w1A29(1.87), w2A29(-1.57), wA29(1.70), w1A30(-1.04), w2A30(1.42), wA30(0.50), w1A31(1.86), w2A31(0.30), wA31(-0.93), w1A32(1.26), w2A32(-1.44), wA32(0.59), w1A33(6.54), w2A33(7.43), wA33(3.89), w1A34(-0.71), w2A34(0.71), wA34(0.92), w1A35(6.54), w2A35(7.43), wA35(3.89), w1A36(-1.70), w2A36(-1.45), wA36(1.63), w1A37(-0.98), w2A37(1.10), wA37(0.50), w1A38(-0.95), w2A38(0.85), wA38(1.63), w1A39(-8.08), w2A39(-3.24), wA39(3.75), w1A40(-0.69), w2A40(0.48), wA40(1.80), wA01C(0.54), wA02C(1.42), wA03C(-1.07), wA04C(1.41), wA05C(-0.41), wA06C(0.72), wA07C(-0.25), wA08C(-1.07), wA09C(2.36), wA10C(2.76), wA11C(-1.85), wA12C(2.84), wA13C(0.58), wA14C(-1.26), wA15C(-0.41), wA16C(-6.83), wA17C(-1.00), wA18C(5.83), wA19C(3.16), wA20C(0.97), wA21C(0.97), wA22C(-0.20), wA23C(-1.26), wA24C(1.41), wA25C(9.60), wA26C(-0.82), wA27C(-2.93), wA28C(2.03), wA29C(3.07), wA30C(-2.25), wA31C(1.26), wA32C(2.36), wA33C(-7.50), wA34C(-0.92), wA35C(-7.50), wA36C(-1.00), wA37C(-1.63), wA38C(-1.20), wA39C(-6.83), wA40C(-0.41), wC(0.40)]\n",
      "Trained weights:\n",
      "Weight 'w1A01': 0.266942\n",
      "Weight 'w2A01': -0.797264\n",
      "Weight 'wA01': 0.325474\n",
      "Weight 'w1A02': 1.084194\n",
      "Weight 'w2A02': -0.906942\n",
      "Weight 'wA02': 0.713777\n",
      "Weight 'w1A03': -0.668122\n",
      "Weight 'w2A03': 0.889140\n",
      "Weight 'wA03': 1.778074\n",
      "Weight 'w1A04': 1.095005\n",
      "Weight 'w2A04': -1.124158\n",
      "Weight 'wA04': 0.598984\n",
      "Weight 'w1A05': -0.845756\n",
      "Weight 'w2A05': 0.121210\n",
      "Weight 'wA05': 1.237799\n",
      "Weight 'w1A06': 1.367059\n",
      "Weight 'w2A06': 0.214299\n",
      "Weight 'wA06': -0.144592\n",
      "Weight 'w1A07': -1.015201\n",
      "Weight 'w2A07': -0.301167\n",
      "Weight 'wA07': 0.629506\n",
      "Weight 'w1A08': -0.668122\n",
      "Weight 'w2A08': 0.889140\n",
      "Weight 'wA08': 1.778074\n",
      "Weight 'w1A09': 1.259237\n",
      "Weight 'w2A09': -1.435927\n",
      "Weight 'wA09': 0.594603\n",
      "Weight 'w1A10': 1.802350\n",
      "Weight 'w2A10': -1.715798\n",
      "Weight 'wA10': 1.542480\n",
      "Weight 'w1A11': -0.774802\n",
      "Weight 'w2A11': 1.842629\n",
      "Weight 'wA11': 1.852956\n",
      "Weight 'w1A12': 1.171237\n",
      "Weight 'w2A12': -1.918364\n",
      "Weight 'wA12': -0.111232\n",
      "Weight 'w1A13': 0.570833\n",
      "Weight 'w2A13': -0.059178\n",
      "Weight 'wA13': 1.542423\n",
      "Weight 'w1A14': -0.791677\n",
      "Weight 'w2A14': 1.199875\n",
      "Weight 'wA14': 1.504218\n",
      "Weight 'w1A15': -0.845756\n",
      "Weight 'w2A15': 0.121210\n",
      "Weight 'wA15': 1.237799\n",
      "Weight 'w1A16': -8.079817\n",
      "Weight 'w2A16': -3.236083\n",
      "Weight 'wA16': 3.748841\n",
      "Weight 'w1A17': -1.702046\n",
      "Weight 'w2A17': -1.452064\n",
      "Weight 'wA17': 1.634279\n",
      "Weight 'w1A18': -5.472982\n",
      "Weight 'w2A18': -5.765184\n",
      "Weight 'wA18': -3.119930\n",
      "Weight 'w1A19': 1.536096\n",
      "Weight 'w2A19': -1.899679\n",
      "Weight 'wA19': 0.909328\n",
      "Weight 'w1A20': 1.036969\n",
      "Weight 'w2A20': -0.343251\n",
      "Weight 'wA20': -0.007281\n",
      "Weight 'w1A21': 1.036969\n",
      "Weight 'w2A21': -0.343251\n",
      "Weight 'wA21': -0.007281\n",
      "Weight 'w1A22': 0.951974\n",
      "Weight 'w2A22': 0.904659\n",
      "Weight 'wA22': 1.308928\n",
      "Weight 'w1A23': -0.791677\n",
      "Weight 'w2A23': 1.199875\n",
      "Weight 'wA23': 1.504218\n",
      "Weight 'w1A24': 1.095005\n",
      "Weight 'w2A24': -1.124158\n",
      "Weight 'wA24': 0.598984\n",
      "Weight 'w1A25': -7.985361\n",
      "Weight 'w2A25': -2.258263\n",
      "Weight 'wA25': -3.993505\n",
      "Weight 'w1A26': 2.104544\n",
      "Weight 'w2A26': 1.284532\n",
      "Weight 'wA26': 1.203781\n",
      "Weight 'w1A27': -1.564035\n",
      "Weight 'w2A27': 1.811932\n",
      "Weight 'wA27': -0.894144\n",
      "Weight 'w1A28': 1.225644\n",
      "Weight 'w2A28': -1.415442\n",
      "Weight 'wA28': 0.707648\n",
      "Weight 'w1A29': 1.874792\n",
      "Weight 'w2A29': -1.574989\n",
      "Weight 'wA29': 1.703124\n",
      "Weight 'w1A30': -1.037562\n",
      "Weight 'w2A30': 1.415477\n",
      "Weight 'wA30': 0.499384\n",
      "Weight 'w1A31': 1.858354\n",
      "Weight 'w2A31': 0.299815\n",
      "Weight 'wA31': -0.929345\n",
      "Weight 'w1A32': 1.259237\n",
      "Weight 'w2A32': -1.435927\n",
      "Weight 'wA32': 0.594603\n",
      "Weight 'w1A33': 6.535159\n",
      "Weight 'w2A33': 7.426656\n",
      "Weight 'wA33': 3.885368\n",
      "Weight 'w1A34': -0.705342\n",
      "Weight 'w2A34': 0.708072\n",
      "Weight 'wA34': 0.924684\n",
      "Weight 'w1A35': 6.535159\n",
      "Weight 'w2A35': 7.426656\n",
      "Weight 'wA35': 3.885368\n",
      "Weight 'w1A36': -1.702046\n",
      "Weight 'w2A36': -1.452064\n",
      "Weight 'wA36': 1.634279\n",
      "Weight 'w1A37': -0.976693\n",
      "Weight 'w2A37': 1.096645\n",
      "Weight 'wA37': 0.501383\n",
      "Weight 'w1A38': -0.950243\n",
      "Weight 'w2A38': 0.848463\n",
      "Weight 'wA38': 1.632722\n",
      "Weight 'w1A39': -8.079817\n",
      "Weight 'w2A39': -3.236083\n",
      "Weight 'wA39': 3.748841\n",
      "Weight 'w1A40': -0.693048\n",
      "Weight 'w2A40': 0.478824\n",
      "Weight 'wA40': 1.798508\n",
      "Weight 'wA01C': 0.536075\n",
      "Weight 'wA02C': 1.424914\n",
      "Weight 'wA03C': -1.067820\n",
      "Weight 'wA04C': 1.409427\n",
      "Weight 'wA05C': -0.414449\n",
      "Weight 'wA06C': 0.722154\n",
      "Weight 'wA07C': -0.249490\n",
      "Weight 'wA08C': -1.067820\n",
      "Weight 'wA09C': 2.363814\n",
      "Weight 'wA10C': 2.763041\n",
      "Weight 'wA11C': -1.849879\n",
      "Weight 'wA12C': 2.837458\n",
      "Weight 'wA13C': 0.575462\n",
      "Weight 'wA14C': -1.258366\n",
      "Weight 'wA15C': -0.414449\n",
      "Weight 'wA16C': -6.833802\n",
      "Weight 'wA17C': -1.004993\n",
      "Weight 'wA18C': 5.833843\n",
      "Weight 'wA19C': 3.159874\n",
      "Weight 'wA20C': 0.973810\n",
      "Weight 'wA21C': 0.973810\n",
      "Weight 'wA22C': -0.203055\n",
      "Weight 'wA23C': -1.258366\n",
      "Weight 'wA24C': 1.409427\n",
      "Weight 'wA25C': 9.596476\n",
      "Weight 'wA26C': -0.819777\n",
      "Weight 'wA27C': -2.930562\n",
      "Weight 'wA28C': 2.029918\n",
      "Weight 'wA29C': 3.073542\n",
      "Weight 'wA30C': -2.247199\n",
      "Weight 'wA31C': 1.263362\n",
      "Weight 'wA32C': 2.363814\n",
      "Weight 'wA33C': -7.500514\n",
      "Weight 'wA34C': -0.918629\n",
      "Weight 'wA35C': -7.500514\n",
      "Weight 'wA36C': -1.004993\n",
      "Weight 'wA37C': -1.625439\n",
      "Weight 'wA38C': -1.199644\n",
      "Weight 'wA39C': -6.833802\n",
      "Weight 'wA40C': -0.412514\n",
      "Weight 'wC': 0.398632\n",
      "Finite Difference Check: True\n",
      "Decision Boundary on Training Data:\n"
     ]
    },
    {
     "data": {
      "image/png": "[encoded data removed]",
      "text/plain": [
       "<Figure size 432x288 with 1 Axes>"
      ]
     },
     "metadata": {
      "needs_background": "light"
     },
     "output_type": "display_data"
    },
    {
     "name": "stdout",
     "output_type": "stream",
     "text": [
      "Decision Boundary on Test Data:\n"
     ]
    },
    {
     "data": {
      "image/png": "[encoded data removed]",
      "text/plain": [
       "<Figure size 432x288 with 1 Axes>"
      ]
     },
     "metadata": {
      "needs_background": "light"
     },
     "output_type": "display_data"
    },
    {
     "name": "stdout",
     "output_type": "stream",
     "text": [
      "Test Data Accuracy: 0.940000\n",
      "Train Data Accuracy: 0.951220\n"
     ]
    }
   ],
   "source": [
    "main(make_neural_net_two_moons, two_moons_data_set, max_iterations=500)"
   ]
  },
  {
   "cell_type": "markdown",
   "metadata": {},
   "source": [
    "### Results:"
   ]
  },
  {
   "cell_type": "markdown",
   "metadata": {},
   "source": [
    "| max iteration | training set accuracy | test set accuracy |\n",
    "|:-------------:|:---------------------:|:-----------------:|\n",
    "|      100      |       0.926829        |      0.980000     |\n",
    "|      500      |       0.951220        |      0.940000     |\n",
    "|      1000     |       0.951220        |      0.940000     |"
   ]
  },
  {
   "cell_type": "markdown",
   "metadata": {},
   "source": [
    "Above results show overfitting in model. This overfitting happened becuase of increasing in max iteration number. By increasing max iteration number, Neural Network uses more details of training set and even uses noises as details of features to generate model."
   ]
  },
  {
   "cell_type": "markdown",
   "metadata": {},
   "source": [
    "### L2-norm Regularization"
   ]
  },
  {
   "cell_type": "markdown",
   "metadata": {},
   "source": [
    "L2-norm uses Least Square Errors to minimize values of weights to reduce overfitting. Less value for weights results in less weight value for less important features. L2-norm reduces weights by having a $\\lambda \\times \\sum\\limits_{j = 1}^{m} w_j^2$ expression added to error function. $\\lambda$ is regularization rate and controlls regularization effect. To minimize error function, values of weights must be minimized. Since we are using performance measure, minus of given expression is added to performance."
   ]
  },
  {
   "cell_type": "markdown",
   "metadata": {},
   "source": [
    "Following class show implementation of L2-norm:"
   ]
  },
  {
   "cell_type": "code",
   "execution_count": 34,
   "metadata": {},
   "outputs": [],
   "source": [
    "class RegularedPerformanceElem(PerformanceElem):\n",
    "    \"\"\"\n",
    "    Representation of a Regulared performance computing output node.\n",
    "    This element contains methods for setting the\n",
    "    desired output (d) and also computing the final\n",
    "    performance P of the network.\n",
    "\n",
    "    This implementation assumes a single output.\n",
    "    \"\"\"\n",
    "\n",
    "    def __init__(self, input, desired_value):\n",
    "        assert isinstance(input, (Input, Neuron))\n",
    "        DifferentiableElement.__init__(self)\n",
    "        self.my_input = input\n",
    "        self.my_desired_val = desired_value\n",
    "        self.weights = []\n",
    "        self.lamda = 0.0001\n",
    "\n",
    "    def set_weights(self, _weights):\n",
    "        self.weights = _weights\n",
    "\n",
    "    def output(self):\n",
    "        \"\"\"\n",
    "        Returns the output of this PerformanceElem node.\n",
    "\n",
    "        returns: number (float/int)\n",
    "        \"\"\"\n",
    "        squaredWeights = 0\n",
    "        for weight in self.weights:\n",
    "            squaredWeights += weight.get_value() ** 2\n",
    "        return -0.5 * (self.my_desired_val - self.my_input.output())**2 - self.lamda * squaredWeights\n",
    "\n",
    "    def dOutdX(self, elem):\n",
    "        \"\"\"\n",
    "        Returns the derivative of this PerformanceElem node with respect\n",
    "        to some weight, given by elem.\n",
    "\n",
    "        elem: an instance of Weight\n",
    "\n",
    "        returns: number (int/float)\n",
    "        \"\"\"\n",
    "        return (self.my_desired_val - self.my_input.output()) * self.my_input.dOutdX(elem) - 2 * self.lamda * elem.get_value()"
   ]
  },
  {
   "cell_type": "markdown",
   "metadata": {},
   "source": [
    "Following changes are applied to make_neural_net_two_moon to apply new performance element:"
   ]
  },
  {
   "cell_type": "code",
   "execution_count": 35,
   "metadata": {},
   "outputs": [],
   "source": [
    "def make_neural_net_two_moons():\n",
    "    \"\"\"\n",
    "    Create an overparametrized network with 40 neurons in the first layer\n",
    "    and a single neuron in the last. This network is more than enough to solve\n",
    "    the two-moons dataset, and as a result will over-fit the data if trained\n",
    "    excessively.\n",
    "\n",
    "    See 'make_neural_net_basic' for required naming convention for inputs,\n",
    "    weights, and neurons.\n",
    "    \"\"\"\n",
    "    seed_random()\n",
    "\n",
    "    i0 = Input('i0', -1.0)\n",
    "    i1 = Input('i1', 0.0)\n",
    "    i2 = Input('i2', 0.0)\n",
    "    \n",
    "    nerun_indexes = [\"%02d\" % x for x in range(1, 41)]\n",
    "    \n",
    "    neurons = []\n",
    "    wACs = []\n",
    "    \n",
    "    for neuron_index in nerun_indexes:\n",
    "        w1A = Weight(\"w1A\" + neuron_index, random_weight())\n",
    "        w2A = Weight(\"w2A\" + neuron_index, random_weight())\n",
    "        wA = Weight(\"wA\" + neuron_index, random_weight())\n",
    "        neurons.append(Neuron('A' + neuron_index, [i1, i2, i0], [w1A, w2A, wA]))\n",
    "        wACs.append(Weight('wA' + neuron_index + 'C', random_weight()))\n",
    "    \n",
    "    wC = Weight('wC', random_weight())\n",
    "    C = Neuron('C', neurons + [i0], wACs + [wC])\n",
    "    \n",
    "    P = RegularedPerformanceElem(C, 0.0)\n",
    "    net = Network(P, neurons + [C])\n",
    "    P.set_weights(net.weights)\n",
    "\n",
    "    return net"
   ]
  },
  {
   "cell_type": "markdown",
   "metadata": {},
   "source": [
    "### Analysis Overfitting on Two Moon Network with L2-norm"
   ]
  },
  {
   "cell_type": "markdown",
   "metadata": {},
   "source": [
    "#### Max Iteration = 100:"
   ]
  },
  {
   "cell_type": "code",
   "execution_count": 36,
   "metadata": {},
   "outputs": [
    {
     "name": "stdout",
     "output_type": "stream",
     "text": [
      "----------------------------------------\n",
      "Training on two-moons data\n",
      "weights: [w1A01(-0.02), w2A01(-0.19), wA01(0.11), w1A02(0.42), w2A02(-0.34), wA02(0.44), w1A03(-0.39), w2A03(0.44), wA03(0.62), w1A04(0.43), w2A04(-0.50), wA04(0.44), w1A05(-0.47), w2A05(0.23), wA05(0.37), w1A06(0.50), w2A06(0.23), wA06(0.02), w1A07(-0.53), w2A07(0.12), wA07(-0.01), w1A08(-0.39), w2A08(0.44), wA08(0.62), w1A09(0.54), w2A09(-0.82), wA09(0.44), w1A10(0.71), w2A10(-1.00), wA10(0.69), w1A11(-0.52), w2A11(1.16), wA11(0.29), w1A12(0.68), w2A12(-1.37), wA12(0.38), w1A13(0.08), w2A13(0.03), wA13(0.76), w1A14(-0.53), w2A14(0.77), wA14(0.30), w1A15(-0.47), w2A15(0.23), wA15(0.37), w1A16(-2.96), w2A16(-1.31), wA16(1.71), w1A17(-0.66), w2A17(-0.46), wA17(0.68), w1A18(-0.33), w2A18(-1.26), wA18(-0.35), w1A19(0.74), w2A19(-1.37), wA19(0.53), w1A20(0.42), w2A20(0.03), wA20(0.00), w1A21(0.42), w2A21(0.03), wA21(0.00), w1A22(0.26), w2A22(0.48), wA22(0.57), w1A23(-0.53), w2A23(0.77), wA23(0.30), w1A24(0.43), w2A24(-0.50), wA24(0.44), w1A25(-5.94), w2A25(-1.67), wA25(-2.08), w1A26(0.29), w2A26(0.40), wA26(0.61), w1A27(-0.71), w2A27(1.30), wA27(-0.16), w1A28(0.46), w2A28(-0.83), wA28(0.54), w1A29(0.71), w2A29(-0.94), wA29(0.72), w1A30(-0.62), w2A30(1.10), wA30(0.00), w1A31(0.58), w2A31(-0.01), wA31(0.05), w1A32(0.54), w2A32(-0.82), wA32(0.44), w1A33(1.09), w2A33(1.53), wA33(1.04), w1A34(-0.38), w2A34(0.56), wA34(0.11), w1A35(1.09), w2A35(1.53), wA35(1.04), w1A36(-0.66), w2A36(-0.46), wA36(0.68), w1A37(-0.59), w2A37(0.80), wA37(-0.00), w1A38(-0.59), w2A38(0.51), wA38(0.41), w1A39(-2.96), w2A39(-1.31), wA39(1.71), w1A40(-0.37), w2A40(0.27), wA40(0.73), wA01C(0.01), wA02C(0.37), wA03C(-0.70), wA04C(0.37), wA05C(-0.35), wA06C(0.20), wA07C(-0.29), wA08C(-0.70), wA09C(0.86), wA10C(1.00), wA11C(-1.28), wA12C(1.36), wA13C(0.09), wA14C(-0.88), wA15C(-0.35), wA16C(-2.79), wA17C(-0.42), wA18C(0.76), wA19C(1.40), wA20C(0.33), wA21C(0.33), wA22C(-0.27), wA23C(-0.88), wA24C(0.37), wA25C(5.47), wA26C(-0.33), wA27C(-1.53), wA28C(0.76), wA29C(1.08), wA30C(-1.31), wA31C(0.46), wA32C(0.86), wA33C(-1.26), wA34C(-0.63), wA35C(-1.26), wA36C(-0.42), wA37C(-0.95), wA38C(-0.89), wA39C(-2.79), wA40C(-0.26), wC(0.54)]\n",
      "Trained weights:\n",
      "Weight 'w1A01': -0.020436\n",
      "Weight 'w2A01': -0.186893\n",
      "Weight 'wA01': 0.112137\n",
      "Weight 'w1A02': 0.418576\n",
      "Weight 'w2A02': -0.342751\n",
      "Weight 'wA02': 0.437856\n",
      "Weight 'w1A03': -0.394130\n",
      "Weight 'w2A03': 0.436208\n",
      "Weight 'wA03': 0.623242\n",
      "Weight 'w1A04': 0.432969\n",
      "Weight 'w2A04': -0.503267\n",
      "Weight 'wA04': 0.437410\n",
      "Weight 'w1A05': -0.471572\n",
      "Weight 'w2A05': 0.229526\n",
      "Weight 'wA05': 0.367878\n",
      "Weight 'w1A06': 0.503626\n",
      "Weight 'w2A06': 0.234830\n",
      "Weight 'wA06': 0.022079\n",
      "Weight 'w1A07': -0.532876\n",
      "Weight 'w2A07': 0.115578\n",
      "Weight 'wA07': -0.011520\n",
      "Weight 'w1A08': -0.394130\n",
      "Weight 'w2A08': 0.436208\n",
      "Weight 'wA08': 0.623242\n",
      "Weight 'w1A09': 0.537871\n",
      "Weight 'w2A09': -0.823000\n",
      "Weight 'wA09': 0.442434\n",
      "Weight 'w1A10': 0.705302\n",
      "Weight 'w2A10': -1.004121\n",
      "Weight 'wA10': 0.693749\n",
      "Weight 'w1A11': -0.522363\n",
      "Weight 'w2A11': 1.161143\n",
      "Weight 'wA11': 0.289625\n",
      "Weight 'w1A12': 0.680301\n",
      "Weight 'w2A12': -1.371533\n",
      "Weight 'wA12': 0.377190\n",
      "Weight 'w1A13': 0.077823\n",
      "Weight 'w2A13': 0.030294\n",
      "Weight 'wA13': 0.760751\n",
      "Weight 'w1A14': -0.530518\n",
      "Weight 'w2A14': 0.766023\n",
      "Weight 'wA14': 0.301020\n",
      "Weight 'w1A15': -0.471572\n",
      "Weight 'w2A15': 0.229526\n",
      "Weight 'wA15': 0.367878\n",
      "Weight 'w1A16': -2.959420\n",
      "Weight 'w2A16': -1.306920\n",
      "Weight 'wA16': 1.706939\n",
      "Weight 'w1A17': -0.658112\n",
      "Weight 'w2A17': -0.460657\n",
      "Weight 'wA17': 0.680899\n",
      "Weight 'w1A18': -0.333090\n",
      "Weight 'w2A18': -1.256156\n",
      "Weight 'wA18': -0.345163\n",
      "Weight 'w1A19': 0.737554\n",
      "Weight 'w2A19': -1.368422\n",
      "Weight 'wA19': 0.527225\n",
      "Weight 'w1A20': 0.419184\n",
      "Weight 'w2A20': 0.031345\n",
      "Weight 'wA20': 0.002040\n",
      "Weight 'w1A21': 0.419184\n",
      "Weight 'w2A21': 0.031345\n",
      "Weight 'wA21': 0.002040\n",
      "Weight 'w1A22': 0.260960\n",
      "Weight 'w2A22': 0.478824\n",
      "Weight 'wA22': 0.568773\n",
      "Weight 'w1A23': -0.530518\n",
      "Weight 'w2A23': 0.766023\n",
      "Weight 'wA23': 0.301020\n",
      "Weight 'w1A24': 0.432969\n",
      "Weight 'w2A24': -0.503267\n",
      "Weight 'wA24': 0.437410\n",
      "Weight 'w1A25': -5.944179\n",
      "Weight 'w2A25': -1.665382\n",
      "Weight 'wA25': -2.083091\n",
      "Weight 'w1A26': 0.288007\n",
      "Weight 'w2A26': 0.398077\n",
      "Weight 'wA26': 0.613400\n",
      "Weight 'w1A27': -0.705506\n",
      "Weight 'w2A27': 1.302294\n",
      "Weight 'wA27': -0.157668\n",
      "Weight 'w1A28': 0.462106\n",
      "Weight 'w2A28': -0.833017\n",
      "Weight 'wA28': 0.541609\n",
      "Weight 'w1A29': 0.712057\n",
      "Weight 'w2A29': -0.940433\n",
      "Weight 'wA29': 0.718338\n",
      "Weight 'w1A30': -0.624305\n",
      "Weight 'w2A30': 1.104346\n",
      "Weight 'wA30': 0.002637\n",
      "Weight 'w1A31': 0.584773\n",
      "Weight 'w2A31': -0.013654\n",
      "Weight 'wA31': 0.046501\n",
      "Weight 'w1A32': 0.537871\n",
      "Weight 'w2A32': -0.823000\n",
      "Weight 'wA32': 0.442434\n",
      "Weight 'w1A33': 1.094886\n",
      "Weight 'w2A33': 1.534023\n",
      "Weight 'wA33': 1.043565\n",
      "Weight 'w1A34': -0.380793\n",
      "Weight 'w2A34': 0.560421\n",
      "Weight 'wA34': 0.114552\n",
      "Weight 'w1A35': 1.094886\n",
      "Weight 'w2A35': 1.534023\n",
      "Weight 'wA35': 1.043565\n",
      "Weight 'w1A36': -0.658112\n",
      "Weight 'w2A36': -0.460657\n",
      "Weight 'wA36': 0.680899\n",
      "Weight 'w1A37': -0.592974\n",
      "Weight 'w2A37': 0.800395\n",
      "Weight 'wA37': -0.004481\n",
      "Weight 'w1A38': -0.588944\n",
      "Weight 'w2A38': 0.510067\n",
      "Weight 'wA38': 0.410721\n",
      "Weight 'w1A39': -2.959420\n",
      "Weight 'w2A39': -1.306920\n",
      "Weight 'wA39': 1.706939\n",
      "Weight 'w1A40': -0.370576\n",
      "Weight 'w2A40': 0.274705\n",
      "Weight 'wA40': 0.725564\n",
      "Weight 'wA01C': 0.012660\n",
      "Weight 'wA02C': 0.366919\n",
      "Weight 'wA03C': -0.699257\n",
      "Weight 'wA04C': 0.372834\n",
      "Weight 'wA05C': -0.349156\n",
      "Weight 'wA06C': 0.200882\n",
      "Weight 'wA07C': -0.291355\n",
      "Weight 'wA08C': -0.699257\n",
      "Weight 'wA09C': 0.862867\n",
      "Weight 'wA10C': 0.995004\n",
      "Weight 'wA11C': -1.280746\n",
      "Weight 'wA12C': 1.364409\n",
      "Weight 'wA13C': 0.086544\n",
      "Weight 'wA14C': -0.882309\n",
      "Weight 'wA15C': -0.349156\n",
      "Weight 'wA16C': -2.793295\n",
      "Weight 'wA17C': -0.419283\n",
      "Weight 'wA18C': 0.760942\n",
      "Weight 'wA19C': 1.400524\n",
      "Weight 'wA20C': 0.327409\n",
      "Weight 'wA21C': 0.327409\n",
      "Weight 'wA22C': -0.271155\n",
      "Weight 'wA23C': -0.882309\n",
      "Weight 'wA24C': 0.372834\n",
      "Weight 'wA25C': 5.467281\n",
      "Weight 'wA26C': -0.329081\n",
      "Weight 'wA27C': -1.531475\n",
      "Weight 'wA28C': 0.757966\n",
      "Weight 'wA29C': 1.077376\n",
      "Weight 'wA30C': -1.307922\n",
      "Weight 'wA31C': 0.460200\n",
      "Weight 'wA32C': 0.862867\n",
      "Weight 'wA33C': -1.262847\n",
      "Weight 'wA34C': -0.629744\n",
      "Weight 'wA35C': -1.262847\n",
      "Weight 'wA36C': -0.419283\n",
      "Weight 'wA37C': -0.945932\n",
      "Weight 'wA38C': -0.890726\n",
      "Weight 'wA39C': -2.793295\n",
      "Weight 'wA40C': -0.264999\n",
      "Weight 'wC': 0.536130\n",
      "Finite Difference Check: True\n",
      "Decision Boundary on Training Data:\n"
     ]
    },
    {
     "data": {
      "image/png": "[encoded data removed]",
      "text/plain": [
       "<Figure size 432x288 with 1 Axes>"
      ]
     },
     "metadata": {
      "needs_background": "light"
     },
     "output_type": "display_data"
    },
    {
     "name": "stdout",
     "output_type": "stream",
     "text": [
      "Decision Boundary on Test Data:\n"
     ]
    },
    {
     "data": {
      "image/png": "[encoded data removed]",
      "text/plain": [
       "<Figure size 432x288 with 1 Axes>"
      ]
     },
     "metadata": {
      "needs_background": "light"
     },
     "output_type": "display_data"
    },
    {
     "name": "stdout",
     "output_type": "stream",
     "text": [
      "Test Data Accuracy: 0.920000\n",
      "Train Data Accuracy: 0.829268\n"
     ]
    }
   ],
   "source": [
    "main(make_neural_net_two_moons, two_moons_data_set, max_iterations=100)"
   ]
  },
  {
   "cell_type": "markdown",
   "metadata": {},
   "source": [
    "#### Max Iteration = 500:"
   ]
  },
  {
   "cell_type": "code",
   "execution_count": 37,
   "metadata": {},
   "outputs": [
    {
     "name": "stdout",
     "output_type": "stream",
     "text": [
      "----------------------------------------\n",
      "Training on two-moons data\n",
      "weights: [w1A01(-0.45), w2A01(0.18), wA01(0.46), w1A02(0.27), w2A02(-0.49), wA02(0.49), w1A03(-0.62), w2A03(0.76), wA03(0.37), w1A04(0.33), w2A04(-0.56), wA04(0.48), w1A05(-0.61), w2A05(0.63), wA05(0.38), w1A06(-0.24), w2A06(-0.04), wA06(0.50), w1A07(-0.61), w2A07(0.61), wA07(0.38), w1A08(-0.62), w2A08(0.76), wA08(0.37), w1A09(0.50), w2A09(-0.77), wA09(0.47), w1A10(0.53), w2A10(-0.82), wA10(0.47), w1A11(-0.63), w2A11(0.94), wA11(0.37), w1A12(0.56), w2A12(-0.87), wA12(0.47), w1A13(-0.42), w2A13(0.16), wA13(0.48), w1A14(-0.63), w2A14(0.86), wA14(0.36), w1A15(-0.61), w2A15(0.63), wA15(0.38), w1A16(-1.99), w2A16(-2.11), wA16(1.09), w1A17(-0.58), w2A17(0.43), wA17(0.41), w1A18(0.41), w2A18(-0.68), wA18(0.45), w1A19(0.56), w2A19(-0.88), wA19(0.47), w1A20(-0.02), w2A20(-0.24), wA20(0.50), w1A21(-0.02), w2A21(-0.24), wA21(0.50), w1A22(-0.58), w2A22(0.54), wA22(0.41), w1A23(-0.63), w2A23(0.86), wA23(0.36), w1A24(0.33), w2A24(-0.56), wA24(0.48), w1A25(-7.52), w2A25(-0.39), wA25(-2.18), w1A26(-0.57), w2A26(0.52), wA26(0.41), w1A27(-0.63), w2A27(0.97), wA27(0.36), w1A28(0.48), w2A28(-0.75), wA28(0.47), w1A29(0.53), w2A29(-0.83), wA29(0.47), w1A30(-0.63), w2A30(0.94), wA30(0.36), w1A31(0.21), w2A31(-0.44), wA31(0.49), w1A32(0.50), w2A32(-0.77), wA32(0.47), w1A33(-0.56), w2A33(1.09), wA33(0.46), w1A34(-0.63), w2A34(0.78), wA34(0.36), w1A35(-0.56), w2A35(1.09), wA35(0.46), w1A36(-0.58), w2A36(0.43), wA36(0.41), w1A37(-0.63), w2A37(0.87), wA37(0.36), w1A38(-0.63), w2A38(0.82), wA38(0.36), w1A39(-1.99), w2A39(-2.11), wA39(1.09), w1A40(-0.60), w2A40(0.59), wA40(0.39), wA01C(-0.32), wA02C(0.56), wA03C(-0.87), wA04C(0.65), wA05C(-0.76), wA06C(-0.04), wA07C(-0.75), wA08C(-0.87), wA09C(0.92), wA10C(0.99), wA11C(-1.04), wA12C(1.05), wA13C(-0.29), wA14C(-0.96), wA15C(-0.76), wA16C(-2.39), wA17C(-0.59), wA18C(0.79), wA19C(1.06), wA20C(0.22), wA21C(0.22), wA22C(-0.66), wA23C(-0.96), wA24C(0.65), wA25C(7.38), wA26C(-0.65), wA27C(-1.06), wA28C(0.90), wA29C(1.00), wA30C(-1.04), wA31C(0.50), wA32C(0.92), wA33C(-1.12), wA34C(-0.90), wA35C(-1.12), wA36C(-0.59), wA37C(-0.98), wA38C(-0.93), wA39C(-2.39), wA40C(-0.72), wC(-0.07)]\n",
      "Trained weights:\n",
      "Weight 'w1A01': -0.450519\n",
      "Weight 'w2A01': 0.180355\n",
      "Weight 'wA01': 0.463250\n",
      "Weight 'w1A02': 0.266602\n",
      "Weight 'w2A02': -0.494388\n",
      "Weight 'wA02': 0.487569\n",
      "Weight 'w1A03': -0.621389\n",
      "Weight 'w2A03': 0.758626\n",
      "Weight 'wA03': 0.368492\n",
      "Weight 'w1A04': 0.331985\n",
      "Weight 'w2A04': -0.562713\n",
      "Weight 'wA04': 0.481130\n",
      "Weight 'w1A05': -0.612520\n",
      "Weight 'w2A05': 0.633583\n",
      "Weight 'wA05': 0.378298\n",
      "Weight 'w1A06': -0.238301\n",
      "Weight 'w2A06': -0.037935\n",
      "Weight 'wA06': 0.502368\n",
      "Weight 'w1A07': -0.613658\n",
      "Weight 'w2A07': 0.610813\n",
      "Weight 'wA07': 0.376855\n",
      "Weight 'w1A08': -0.621389\n",
      "Weight 'w2A08': 0.758626\n",
      "Weight 'wA08': 0.368492\n",
      "Weight 'w1A09': 0.496953\n",
      "Weight 'w2A09': -0.771868\n",
      "Weight 'wA09': 0.469239\n",
      "Weight 'w1A10': 0.531114\n",
      "Weight 'w2A10': -0.821917\n",
      "Weight 'wA10': 0.472179\n",
      "Weight 'w1A11': -0.625474\n",
      "Weight 'w2A11': 0.941489\n",
      "Weight 'wA11': 0.368055\n",
      "Weight 'w1A12': 0.556157\n",
      "Weight 'w2A12': -0.871206\n",
      "Weight 'wA12': 0.465944\n",
      "Weight 'w1A13': -0.418484\n",
      "Weight 'w2A13': 0.159762\n",
      "Weight 'wA13': 0.478186\n",
      "Weight 'w1A14': -0.627414\n",
      "Weight 'w2A14': 0.858606\n",
      "Weight 'wA14': 0.362093\n",
      "Weight 'w1A15': -0.612520\n",
      "Weight 'w2A15': 0.633583\n",
      "Weight 'wA15': 0.378298\n",
      "Weight 'w1A16': -1.992148\n",
      "Weight 'w2A16': -2.110168\n",
      "Weight 'wA16': 1.086294\n",
      "Weight 'w1A17': -0.583403\n",
      "Weight 'w2A17': 0.426131\n",
      "Weight 'wA17': 0.409190\n",
      "Weight 'w1A18': 0.411203\n",
      "Weight 'w2A18': -0.679735\n",
      "Weight 'wA18': 0.450158\n",
      "Weight 'w1A19': 0.562721\n",
      "Weight 'w2A19': -0.879242\n",
      "Weight 'wA19': 0.469451\n",
      "Weight 'w1A20': -0.019382\n",
      "Weight 'w2A20': -0.240198\n",
      "Weight 'wA20': 0.503941\n",
      "Weight 'w1A21': -0.019382\n",
      "Weight 'w2A21': -0.240198\n",
      "Weight 'wA21': 0.503941\n",
      "Weight 'w1A22': -0.578911\n",
      "Weight 'w2A22': 0.537770\n",
      "Weight 'wA22': 0.406470\n",
      "Weight 'w1A23': -0.627414\n",
      "Weight 'w2A23': 0.858606\n",
      "Weight 'wA23': 0.362093\n",
      "Weight 'w1A24': 0.331985\n",
      "Weight 'w2A24': -0.562713\n",
      "Weight 'wA24': 0.481130\n",
      "Weight 'w1A25': -7.520203\n",
      "Weight 'w2A25': -0.391161\n",
      "Weight 'wA25': -2.175350\n",
      "Weight 'w1A26': -0.574845\n",
      "Weight 'w2A26': 0.519572\n",
      "Weight 'wA26': 0.409724\n",
      "Weight 'w1A27': -0.629358\n",
      "Weight 'w2A27': 0.965199\n",
      "Weight 'wA27': 0.363785\n",
      "Weight 'w1A28': 0.483050\n",
      "Weight 'w2A28': -0.750552\n",
      "Weight 'wA28': 0.470541\n",
      "Weight 'w1A29': 0.534768\n",
      "Weight 'w2A29': -0.827022\n",
      "Weight 'wA29': 0.473006\n",
      "Weight 'w1A30': -0.629010\n",
      "Weight 'w2A30': 0.936476\n",
      "Weight 'wA30': 0.362763\n",
      "Weight 'w1A31': 0.213657\n",
      "Weight 'w2A31': -0.443209\n",
      "Weight 'wA31': 0.490589\n",
      "Weight 'w1A32': 0.496953\n",
      "Weight 'w2A32': -0.771868\n",
      "Weight 'wA32': 0.469239\n",
      "Weight 'w1A33': -0.558610\n",
      "Weight 'w2A33': 1.086937\n",
      "Weight 'wA33': 0.464860\n",
      "Weight 'w1A34': -0.626000\n",
      "Weight 'w2A34': 0.784659\n",
      "Weight 'wA34': 0.362392\n",
      "Weight 'w1A35': -0.558610\n",
      "Weight 'w2A35': 1.086937\n",
      "Weight 'wA35': 0.464860\n",
      "Weight 'w1A36': -0.583403\n",
      "Weight 'w2A36': 0.426131\n",
      "Weight 'wA36': 0.409190\n",
      "Weight 'w1A37': -0.630195\n",
      "Weight 'w2A37': 0.873559\n",
      "Weight 'wA37': 0.358596\n",
      "Weight 'w1A38': -0.627151\n",
      "Weight 'w2A38': 0.820578\n",
      "Weight 'wA38': 0.361962\n",
      "Weight 'w1A39': -1.992148\n",
      "Weight 'w2A39': -2.110168\n",
      "Weight 'wA39': 1.086294\n",
      "Weight 'w1A40': -0.600420\n",
      "Weight 'w2A40': 0.585696\n",
      "Weight 'wA40': 0.390558\n",
      "Weight 'wA01C': -0.323264\n",
      "Weight 'wA02C': 0.564348\n",
      "Weight 'wA03C': -0.871234\n",
      "Weight 'wA04C': 0.654032\n",
      "Weight 'wA05C': -0.762543\n",
      "Weight 'wA06C': -0.043324\n",
      "Weight 'wA07C': -0.745573\n",
      "Weight 'wA08C': -0.871234\n",
      "Weight 'wA09C': 0.923217\n",
      "Weight 'wA10C': 0.988244\n",
      "Weight 'wA11C': -1.037864\n",
      "Weight 'wA12C': 1.047721\n",
      "Weight 'wA13C': -0.288190\n",
      "Weight 'wA14C': -0.962924\n",
      "Weight 'wA15C': -0.762543\n",
      "Weight 'wA16C': -2.391318\n",
      "Weight 'wA17C': -0.587530\n",
      "Weight 'wA18C': 0.791063\n",
      "Weight 'wA19C': 1.059340\n",
      "Weight 'wA20C': 0.220198\n",
      "Weight 'wA21C': 0.220198\n",
      "Weight 'wA22C': -0.662047\n",
      "Weight 'wA23C': -0.962924\n",
      "Weight 'wA24C': 0.654032\n",
      "Weight 'wA25C': 7.377041\n",
      "Weight 'wA26C': -0.645566\n",
      "Weight 'wA27C': -1.064150\n",
      "Weight 'wA28C': 0.896446\n",
      "Weight 'wA29C': 0.995124\n",
      "Weight 'wA30C': -1.036213\n",
      "Weight 'wA31C': 0.496466\n",
      "Weight 'wA32C': 0.923217\n",
      "Weight 'wA33C': -1.121469\n",
      "Weight 'wA34C': -0.896820\n",
      "Weight 'wA35C': -1.121469\n",
      "Weight 'wA36C': -0.587530\n",
      "Weight 'wA37C': -0.978751\n",
      "Weight 'wA38C': -0.929238\n",
      "Weight 'wA39C': -2.391318\n",
      "Weight 'wA40C': -0.715953\n",
      "Weight 'wC': -0.065821\n",
      "Finite Difference Check: True\n",
      "Decision Boundary on Training Data:\n"
     ]
    },
    {
     "data": {
      "image/png": "[encoded data removed]",
      "text/plain": [
       "<Figure size 432x288 with 1 Axes>"
      ]
     },
     "metadata": {
      "needs_background": "light"
     },
     "output_type": "display_data"
    },
    {
     "name": "stdout",
     "output_type": "stream",
     "text": [
      "Decision Boundary on Test Data:\n"
     ]
    },
    {
     "data": {
      "image/png": "[encoded data removed]",
      "text/plain": [
       "<Figure size 432x288 with 1 Axes>"
      ]
     },
     "metadata": {
      "needs_background": "light"
     },
     "output_type": "display_data"
    },
    {
     "name": "stdout",
     "output_type": "stream",
     "text": [
      "Test Data Accuracy: 0.970000\n",
      "Train Data Accuracy: 0.926829\n"
     ]
    }
   ],
   "source": [
    "main(make_neural_net_two_moons, two_moons_data_set, max_iterations=500)"
   ]
  },
  {
   "cell_type": "markdown",
   "metadata": {},
   "source": [
    "#### Max Iteration = 1000;"
   ]
  },
  {
   "cell_type": "code",
   "execution_count": 38,
   "metadata": {},
   "outputs": [
    {
     "name": "stdout",
     "output_type": "stream",
     "text": [
      "----------------------------------------\n",
      "Training on two-moons data\n",
      "weights: [w1A01(-0.56), w2A01(0.52), wA01(0.41), w1A02(0.34), w2A02(-0.61), wA02(0.46), w1A03(-0.59), w2A03(0.78), wA03(0.39), w1A04(0.40), w2A04(-0.68), wA04(0.45), w1A05(-0.59), w2A05(0.74), wA05(0.39), w1A06(-0.51), w2A06(0.32), wA06(0.45), w1A07(-0.59), w2A07(0.74), wA07(0.39), w1A08(-0.59), w2A08(0.78), wA08(0.39), w1A09(0.48), w2A09(-0.79), wA09(0.44), w1A10(0.49), w2A10(-0.80), wA10(0.44), w1A11(-0.59), w2A11(0.83), wA11(0.39), w1A12(0.49), w2A12(-0.82), wA12(0.44), w1A13(-0.56), w2A13(0.50), wA13(0.41), w1A14(-0.59), w2A14(0.81), wA14(0.39), w1A15(-0.59), w2A15(0.74), wA15(0.39), w1A16(-1.97), w2A16(-2.26), wA16(1.05), w1A17(-0.58), w2A17(0.67), wA17(0.39), w1A18(0.45), w2A18(-0.75), wA18(0.44), w1A19(0.49), w2A19(-0.82), wA19(0.44), w1A20(-0.29), w2A20(-0.01), wA20(0.49), w1A21(-0.29), w2A21(-0.01), wA21(0.49), w1A22(-0.59), w2A22(0.71), wA22(0.39), w1A23(-0.59), w2A23(0.81), wA23(0.39), w1A24(0.40), w2A24(-0.68), wA24(0.45), w1A25(-7.51), w2A25(-0.39), wA25(-2.18), w1A26(-0.58), w2A26(0.70), wA26(0.39), w1A27(-0.59), w2A27(0.83), wA27(0.39), w1A28(0.47), w2A28(-0.78), wA28(0.44), w1A29(0.49), w2A29(-0.81), wA29(0.44), w1A30(-0.59), w2A30(0.83), wA30(0.39), w1A31(0.27), w2A31(-0.53), wA31(0.47), w1A32(0.48), w2A32(-0.79), wA32(0.44), w1A33(-0.59), w2A33(0.85), wA33(0.39), w1A34(-0.59), w2A34(0.79), wA34(0.39), w1A35(-0.59), w2A35(0.85), wA35(0.39), w1A36(-0.58), w2A36(0.67), wA36(0.39), w1A37(-0.59), w2A37(0.81), wA37(0.39), w1A38(-0.59), w2A38(0.80), wA38(0.39), w1A39(-1.97), w2A39(-2.26), wA39(1.05), w1A40(-0.59), w2A40(0.73), wA40(0.39), wA01C(-0.62), wA02C(0.70), wA03C(-0.84), wA04C(0.79), wA05C(-0.81), wA06C(-0.43), wA07C(-0.81), wA08C(-0.84), wA09C(0.93), wA10C(0.95), wA11C(-0.88), wA12C(0.97), wA13C(-0.60), wA14C(-0.87), wA15C(-0.81), wA16C(-2.40), wA17C(-0.74), wA18C(0.88), wA19C(0.97), wA20C(-0.08), wA21C(-0.08), wA22C(-0.78), wA23C(-0.87), wA24C(0.79), wA25C(7.41), wA26C(-0.77), wA27C(-0.89), wA28C(0.92), wA29C(0.95), wA30C(-0.88), wA31C(0.60), wA32C(0.93), wA33C(-0.90), wA34C(-0.85), wA35C(-0.90), wA36C(-0.74), wA37C(-0.87), wA38C(-0.86), wA39C(-2.40), wA40C(-0.80), wC(-0.23)]\n",
      "Trained weights:\n",
      "Weight 'w1A01': -0.563991\n",
      "Weight 'w2A01': 0.524806\n",
      "Weight 'wA01': 0.410964\n",
      "Weight 'w1A02': 0.341766\n",
      "Weight 'w2A02': -0.606664\n",
      "Weight 'wA02': 0.458054\n",
      "Weight 'w1A03': -0.588791\n",
      "Weight 'w2A03': 0.781657\n",
      "Weight 'wA03': 0.389521\n",
      "Weight 'w1A04': 0.399889\n",
      "Weight 'w2A04': -0.678291\n",
      "Weight 'wA04': 0.450829\n",
      "Weight 'w1A05': -0.587527\n",
      "Weight 'w2A05': 0.744639\n",
      "Weight 'wA05': 0.390158\n",
      "Weight 'w1A06': -0.506319\n",
      "Weight 'w2A06': 0.316521\n",
      "Weight 'wA06': 0.445172\n",
      "Weight 'w1A07': -0.587232\n",
      "Weight 'w2A07': 0.737752\n",
      "Weight 'wA07': 0.390367\n",
      "Weight 'w1A08': -0.588791\n",
      "Weight 'w2A08': 0.781657\n",
      "Weight 'wA08': 0.389521\n",
      "Weight 'w1A09': 0.475791\n",
      "Weight 'w2A09': -0.788290\n",
      "Weight 'wA09': 0.440602\n",
      "Weight 'w1A10': 0.485317\n",
      "Weight 'w2A10': -0.803844\n",
      "Weight 'wA10': 0.439212\n",
      "Weight 'w1A11': -0.589187\n",
      "Weight 'w2A11': 0.826688\n",
      "Weight 'wA11': 0.390457\n",
      "Weight 'w1A12': 0.492596\n",
      "Weight 'w2A12': -0.816130\n",
      "Weight 'wA12': 0.438043\n",
      "Weight 'w1A13': -0.559958\n",
      "Weight 'w2A13': 0.503857\n",
      "Weight 'wA13': 0.414099\n",
      "Weight 'w1A14': -0.589209\n",
      "Weight 'w2A14': 0.807646\n",
      "Weight 'wA14': 0.389776\n",
      "Weight 'w1A15': -0.587527\n",
      "Weight 'w2A15': 0.744639\n",
      "Weight 'wA15': 0.390158\n",
      "Weight 'w1A16': -1.970020\n",
      "Weight 'w2A16': -2.255829\n",
      "Weight 'wA16': 1.048843\n",
      "Weight 'w1A17': -0.582539\n",
      "Weight 'w2A17': 0.667853\n",
      "Weight 'wA17': 0.394578\n",
      "Weight 'w1A18': 0.448986\n",
      "Weight 'w2A18': -0.746977\n",
      "Weight 'wA18': 0.444207\n",
      "Weight 'w1A19': 0.493920\n",
      "Weight 'w2A19': -0.818357\n",
      "Weight 'wA19': 0.437865\n",
      "Weight 'w1A20': -0.289638\n",
      "Weight 'w2A20': -0.011270\n",
      "Weight 'wA20': 0.493053\n",
      "Weight 'w1A21': -0.289638\n",
      "Weight 'w2A21': -0.011270\n",
      "Weight 'wA21': 0.493053\n",
      "Weight 'w1A22': -0.585360\n",
      "Weight 'w2A22': 0.707534\n",
      "Weight 'wA22': 0.391979\n",
      "Weight 'w1A23': -0.589209\n",
      "Weight 'w2A23': 0.807646\n",
      "Weight 'wA23': 0.389776\n",
      "Weight 'w1A24': 0.399889\n",
      "Weight 'w2A24': -0.678291\n",
      "Weight 'wA24': 0.450829\n",
      "Weight 'w1A25': -7.507484\n",
      "Weight 'w2A25': -0.391509\n",
      "Weight 'wA25': -2.177824\n",
      "Weight 'w1A26': -0.584878\n",
      "Weight 'w2A26': 0.700401\n",
      "Weight 'wA26': 0.392412\n",
      "Weight 'w1A27': -0.589171\n",
      "Weight 'w2A27': 0.832291\n",
      "Weight 'wA27': 0.390686\n",
      "Weight 'w1A28': 0.471301\n",
      "Weight 'w2A28': -0.781099\n",
      "Weight 'wA28': 0.441262\n",
      "Weight 'w1A29': 0.486226\n",
      "Weight 'w2A29': -0.805348\n",
      "Weight 'wA29': 0.439081\n",
      "Weight 'w1A30': -0.589223\n",
      "Weight 'w2A30': 0.825885\n",
      "Weight 'wA30': 0.390384\n",
      "Weight 'w1A31': 0.269917\n",
      "Weight 'w2A31': -0.528026\n",
      "Weight 'wA31': 0.466620\n",
      "Weight 'w1A32': 0.475791\n",
      "Weight 'w2A32': -0.788290\n",
      "Weight 'wA32': 0.440602\n",
      "Weight 'w1A33': -0.588138\n",
      "Weight 'w2A33': 0.853005\n",
      "Weight 'wA33': 0.392803\n",
      "Weight 'w1A34': -0.588975\n",
      "Weight 'w2A34': 0.789033\n",
      "Weight 'wA34': 0.389501\n",
      "Weight 'w1A35': -0.588138\n",
      "Weight 'w2A35': 0.853005\n",
      "Weight 'wA35': 0.392803\n",
      "Weight 'w1A36': -0.582539\n",
      "Weight 'w2A36': 0.667853\n",
      "Weight 'wA36': 0.394578\n",
      "Weight 'w1A37': -0.589251\n",
      "Weight 'w2A37': 0.811498\n",
      "Weight 'wA37': 0.389850\n",
      "Weight 'w1A38': -0.589122\n",
      "Weight 'w2A38': 0.798333\n",
      "Weight 'wA38': 0.389594\n",
      "Weight 'w1A39': -1.970020\n",
      "Weight 'w2A39': -2.255829\n",
      "Weight 'wA39': 1.048843\n",
      "Weight 'w1A40': -0.586637\n",
      "Weight 'w2A40': 0.727545\n",
      "Weight 'wA40': 0.390863\n",
      "Weight 'wA01C': -0.621467\n",
      "Weight 'wA02C': 0.703820\n",
      "Weight 'wA03C': -0.843053\n",
      "Weight 'wA04C': 0.794733\n",
      "Weight 'wA05C': -0.811074\n",
      "Weight 'wA06C': -0.432598\n",
      "Weight 'wA07C': -0.805152\n",
      "Weight 'wA08C': -0.843053\n",
      "Weight 'wA09C': 0.931622\n",
      "Weight 'wA10C': 0.950770\n",
      "Weight 'wA11C': -0.882007\n",
      "Weight 'wA12C': 0.965832\n",
      "Weight 'wA13C': -0.603060\n",
      "Weight 'wA14C': -0.865552\n",
      "Weight 'wA15C': -0.811074\n",
      "Weight 'wA16C': -2.400550\n",
      "Weight 'wA17C': -0.744980\n",
      "Weight 'wA18C': 0.880471\n",
      "Weight 'wA19C': 0.968576\n",
      "Weight 'wA20C': -0.075957\n",
      "Weight 'wA21C': -0.075957\n",
      "Weight 'wA22C': -0.778985\n",
      "Weight 'wA23C': -0.865552\n",
      "Weight 'wA24C': 0.794733\n",
      "Weight 'wA25C': 7.409186\n",
      "Weight 'wA26C': -0.772840\n",
      "Weight 'wA27C': -0.886878\n",
      "Weight 'wA28C': 0.922762\n",
      "Weight 'wA29C': 0.952621\n",
      "Weight 'wA30C': -0.881337\n",
      "Weight 'wA31C': 0.602236\n",
      "Weight 'wA32C': 0.931622\n",
      "Weight 'wA33C': -0.904275\n",
      "Weight 'wA34C': -0.849454\n",
      "Weight 'wA35C': -0.904275\n",
      "Weight 'wA36C': -0.744980\n",
      "Weight 'wA37C': -0.868902\n",
      "Weight 'wA38C': -0.857498\n",
      "Weight 'wA39C': -2.400550\n",
      "Weight 'wA40C': -0.796295\n",
      "Weight 'wC': -0.226604\n",
      "Finite Difference Check: True\n",
      "Decision Boundary on Training Data:\n"
     ]
    },
    {
     "data": {
      "image/png": "[encoded data removed]",
      "text/plain": [
       "<Figure size 432x288 with 1 Axes>"
      ]
     },
     "metadata": {
      "needs_background": "light"
     },
     "output_type": "display_data"
    },
    {
     "name": "stdout",
     "output_type": "stream",
     "text": [
      "Decision Boundary on Test Data:\n"
     ]
    },
    {
     "data": {
      "image/png": "[encoded data removed]",
      "text/plain": [
       "<Figure size 432x288 with 1 Axes>"
      ]
     },
     "metadata": {
      "needs_background": "light"
     },
     "output_type": "display_data"
    },
    {
     "name": "stdout",
     "output_type": "stream",
     "text": [
      "Test Data Accuracy: 0.970000\n",
      "Train Data Accuracy: 0.951220\n"
     ]
    }
   ],
   "source": [
    "main(make_neural_net_two_moons, two_moons_data_set, max_iterations=1000)"
   ]
  },
  {
   "cell_type": "markdown",
   "metadata": {},
   "source": [
    "### Results"
   ]
  },
  {
   "cell_type": "markdown",
   "metadata": {},
   "source": [
    "| max iteration | training set accuracy | test set accuracy |\n",
    "|:-------------:|:---------------------:|:-----------------:|\n",
    "|      100      |       0.829268        |      0.920000     |\n",
    "|      500      |       0.926829        |      0.970000     |\n",
    "|      1000     |       0.951220        |      0.970000     |"
   ]
  },
  {
   "cell_type": "markdown",
   "metadata": {},
   "source": [
    "As you can see, L2-norm helped to reduce overfitting by reducing values of weights. The numbers show less dependency on specific features  on training set and less train data accuracy on overfitted models and not losing accuracy on increasing max iteration."
   ]
  }
 ],
 "metadata": {
  "kernelspec": {
   "display_name": "Python 3",
   "language": "python",
   "name": "python3"
  },
  "language_info": {
   "codemirror_mode": {
    "name": "ipython",
    "version": 3
   },
   "file_extension": ".py",
   "mimetype": "text/x-python",
   "name": "python",
   "nbconvert_exporter": "python",
   "pygments_lexer": "ipython3",
   "version": "3.7.3"
  }
 },
 "nbformat": 4,
 "nbformat_minor": 2
}
